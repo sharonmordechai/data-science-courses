{
 "cells": [
  {
   "cell_type": "markdown",
   "metadata": {},
   "source": [
    "# CS3600: Deep Learning\n",
    "# Course project\n",
    "\n",
    "Raichman Univercity"
   ]
  },
  {
   "cell_type": "markdown",
   "metadata": {},
   "source": [
    "## Introduction\n",
    "\n",
    "In this assignment you will:\n",
    "1. learn to generate images  and implement two different generative models:\n",
    "    * Variational autoencoder\n",
    "    * generative adversarial network.\n",
    "<img src=\"imgs/1.jpeg\"/>\n",
    "2. answer course summery questions\n",
    "3. implement a mini project"
   ]
  },
  {
   "cell_type": "markdown",
   "metadata": {},
   "source": [
    "## General Guidelines\n",
    "\n",
    "- This assignment requires running on GPU-enabled hardware. We highly recommand you to run all debuging in your enviroment and the training itself in google colab. Use the `checkpoint` to download the trained model back to your computer for inference and submission.\n",
    "- The text and code cells in these notebooks are intended to guide you through the\n",
    "  assignment and help you verify your solutions.\n",
    "  The notebooks **do not need to be edited** at all (unless you wish to play around).\n",
    "  The only exception is to fill your name(s) in the above cell before submission.\n",
    "  Please do not remove sections or change the order of any cells, **your grade will decresse drusticly if you do**.\n",
    "- All your code (and even answers to questions) should be written in the files\n",
    "  within the python package corresponding the assignment number (`hw1`, `hw2`, etc).\n",
    "  You can of course use any editor or IDE to work on these files.\n",
    "- The project code should be submmited in `project` dir, and the training process (the logs), the graphs and all the explanation should be in the corispond **notebook**. try to implement it close to the HW assigments, as the model implementation, losses etc.. all in .py files, while the things you want to present is in the notebook.\n",
    "\n",
    "Good luck with the project and with your exams!"
   ]
  },
  {
   "cell_type": "markdown",
   "metadata": {},
   "source": [
    "<img src=\"imgs/2.jpeg\"/>"
   ]
  }
 ],
 "metadata": {
  "kernelspec": {
   "display_name": "Python 3 (ipykernel)",
   "language": "python",
   "name": "python3"
  },
  "language_info": {
   "codemirror_mode": {
    "name": "ipython",
    "version": 3
   },
   "file_extension": ".py",
   "mimetype": "text/x-python",
   "name": "python",
   "nbconvert_exporter": "python",
   "pygments_lexer": "ipython3",
   "version": "3.8.6"
  }
 },
 "nbformat": 4,
 "nbformat_minor": 4
}
