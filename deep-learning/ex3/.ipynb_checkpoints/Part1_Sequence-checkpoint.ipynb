{
 "cells": [
  {
   "cell_type": "markdown",
   "metadata": {},
   "source": [
    "$$\n",
    "\\newcommand{\\mat}[1]{\\boldsymbol {#1}}\n",
    "\\newcommand{\\mattr}[1]{\\boldsymbol {#1}^\\top}\n",
    "\\newcommand{\\matinv}[1]{\\boldsymbol {#1}^{-1}}\n",
    "\\newcommand{\\vec}[1]{\\boldsymbol {#1}}\n",
    "\\newcommand{\\vectr}[1]{\\boldsymbol {#1}^\\top}\n",
    "\\newcommand{\\rvar}[1]{\\mathrm {#1}}\n",
    "\\newcommand{\\rvec}[1]{\\boldsymbol{\\mathrm{#1}}}\n",
    "\\newcommand{\\diag}{\\mathop{\\mathrm {diag}}}\n",
    "\\newcommand{\\set}[1]{\\mathbb {#1}}\n",
    "\\newcommand{\\norm}[1]{\\left\\lVert#1\\right\\rVert}\n",
    "\\newcommand{\\pderiv}[2]{\\frac{\\partial #1}{\\partial #2}}\n",
    "\\newcommand{\\bb}[1]{\\boldsymbol{#1}}\n",
    "$$\n",
    "# Part 1: Sequence Models\n",
    "<a id=part1></a>"
   ]
  },
  {
   "cell_type": "markdown",
   "metadata": {},
   "source": [
    "In this part we will learn about working with text sequences using recurrent neural networks.\n",
    "We'll go from a raw text file all the way to a fully trained GRU-RNN model and generate works of art!"
   ]
  },
  {
   "cell_type": "code",
   "execution_count": 1,
   "metadata": {
    "tags": []
   },
   "outputs": [],
   "source": [
    "import unittest\n",
    "import os\n",
    "import sys\n",
    "import pathlib\n",
    "import urllib\n",
    "import shutil\n",
    "import re\n",
    "\n",
    "import numpy as np\n",
    "import torch\n",
    "import matplotlib.pyplot as plt\n",
    "\n",
    "%load_ext autoreload\n",
    "%autoreload 2"
   ]
  },
  {
   "cell_type": "code",
   "execution_count": 2,
   "metadata": {
    "tags": []
   },
   "outputs": [
    {
     "name": "stdout",
     "output_type": "stream",
     "text": [
      "Using device: cpu\n"
     ]
    }
   ],
   "source": [
    "test = unittest.TestCase()\n",
    "plt.rcParams.update({'font.size': 12})\n",
    "device = torch.device('cuda' if torch.cuda.is_available() else 'cpu')\n",
    "print('Using device:', device)"
   ]
  },
  {
   "cell_type": "markdown",
   "metadata": {},
   "source": [
    "## Text generation with a char-level RNN\n",
    "<a id=part1_1></a>"
   ]
  },
  {
   "cell_type": "markdown",
   "metadata": {},
   "source": [
    "### Obtaining the corpus\n",
    "<a id=part1_2></a>"
   ]
  },
  {
   "cell_type": "markdown",
   "metadata": {},
   "source": [
    "Let's begin by downloading a corpus containing all the works of William Shakespeare.\n",
    "Since he was very prolific, this corpus is fairly large and will provide us with enough data for\n",
    "obtaining impressive results."
   ]
  },
  {
   "cell_type": "code",
   "execution_count": 3,
   "metadata": {
    "tags": []
   },
   "outputs": [
    {
     "name": "stdout",
     "output_type": "stream",
     "text": [
      "Downloading https://github.com/cedricdeboom/character-level-rnn-datasets/raw/master/datasets/shakespeare.txt...\n",
      "Saved to /Users/I341716/.pytorch-datasets/shakespeare.txt.\n"
     ]
    }
   ],
   "source": [
    "CORPUS_URL = 'https://github.com/cedricdeboom/character-level-rnn-datasets/raw/master/datasets/shakespeare.txt'\n",
    "DATA_DIR = pathlib.Path.home().joinpath('.pytorch-datasets')\n",
    "\n",
    "def download_corpus(out_path=DATA_DIR, url=CORPUS_URL, force=False):\n",
    "    pathlib.Path(out_path).mkdir(exist_ok=True)\n",
    "    out_filename = os.path.join(out_path, os.path.basename(url))\n",
    "    \n",
    "    if os.path.isfile(out_filename) and not force:\n",
    "        print(f'Corpus file {out_filename} exists, skipping download.')\n",
    "    else:\n",
    "        print(f'Downloading {url}...')\n",
    "        with urllib.request.urlopen(url) as response, open(out_filename, 'wb') as out_file:\n",
    "            shutil.copyfileobj(response, out_file)\n",
    "        print(f'Saved to {out_filename}.')\n",
    "    return out_filename\n",
    "    \n",
    "corpus_path = download_corpus()"
   ]
  },
  {
   "cell_type": "markdown",
   "metadata": {},
   "source": [
    "Load the text into memory and print a snippet:"
   ]
  },
  {
   "cell_type": "code",
   "execution_count": 88,
   "metadata": {
    "tags": []
   },
   "outputs": [
    {
     "name": "stdout",
     "output_type": "stream",
     "text": [
      "Corpus length: 6347703 chars\n",
      "ALLS WELL THAT ENDS WELL\n",
      "\n",
      "by William Shakespeare\n",
      "\n",
      "Dramatis Personae\n",
      "\n",
      "  KING OF FRANCE\n",
      "  THE DUKE OF FLORENCE\n",
      "  BERTRAM, Count of Rousillon\n",
      "  LAFEU, an old lord\n",
      "  PAROLLES, a follower of Bertram\n",
      "  TWO FRENCH LORDS, serving with Bertram\n",
      "\n",
      "  STEWARD, Servant to the Countess of Rousillon\n",
      "  LAVACHE, a clown and Servant to the Countess of Rousillon\n",
      "  A PAGE, Servant to the Countess of Rousillon\n",
      "\n",
      "  COUNTESS OF ROUSILLON, mother to Bertram\n",
      "  HELENA, a gentlewoman protected by the Countess\n",
      "  A WIDOW OF FLORENCE.\n",
      "  DIANA, daughter to the Widow\n",
      "\n",
      "  VIOLENTA, neighbour and friend to the Widow\n",
      "  MARIANA, neighbour and friend to the Widow\n",
      "\n",
      "  Lords, Officers, Soldiers, etc., French and Florentine  \n",
      "\n",
      "SCENE:\n",
      "Rousillon; Paris; Florence; Marseilles\n",
      "\n",
      "ACT I. SCENE 1.\n",
      "Rousillon. The COUNT'S palace\n",
      "\n",
      "Enter BERTRAM, the COUNTESS OF ROUSILLON, HELENA, and LAFEU, all in black\n",
      "\n",
      "  COUNTESS. In delivering my son from me, I bury a second husband.\n",
      "  BERTRAM. And I in going, madam, weep o'er my father's death anew;\n",
      "    but I must attend his Majesty's command, to whom I am now in\n",
      "    ward, evermore in subjection.\n",
      "  LAFEU. You shall find of the King a husband, madam; you, sir, a\n",
      "    father. He that so generally is at all times good must of\n",
      "    \n"
     ]
    }
   ],
   "source": [
    "with open(corpus_path, 'r', encoding='utf-8') as f:\n",
    "    corpus = f.read()\n",
    "\n",
    "print(f'Corpus length: {len(corpus)} chars')\n",
    "print(corpus[7:1234])"
   ]
  },
  {
   "cell_type": "markdown",
   "metadata": {},
   "source": [
    "### Data Preprocessing\n",
    "<a id=part1_3></a>"
   ]
  },
  {
   "cell_type": "markdown",
   "metadata": {},
   "source": [
    "The first thing we'll need is to map from each unique character in the corpus to an index that will represent it in our learning process.\n",
    "\n",
    "**TODO**: Implement the `char_maps()` function in the `hw3/charnn.py` module."
   ]
  },
  {
   "cell_type": "code",
   "execution_count": 89,
   "metadata": {
    "tags": []
   },
   "outputs": [
    {
     "name": "stdout",
     "output_type": "stream",
     "text": [
      "{'\\n': 0, ' ': 1, '!': 2, '\"': 3, '$': 4, '&': 5, \"'\": 6, '(': 7, ')': 8, ',': 9, '-': 10, '.': 11, '0': 12, '1': 13, '2': 14, '3': 15, '4': 16, '5': 17, '6': 18, '7': 19, '8': 20, '9': 21, ':': 22, ';': 23, '<': 24, '?': 25, 'A': 26, 'B': 27, 'C': 28, 'D': 29, 'E': 30, 'F': 31, 'G': 32, 'H': 33, 'I': 34, 'J': 35, 'K': 36, 'L': 37, 'M': 38, 'N': 39, 'O': 40, 'P': 41, 'Q': 42, 'R': 43, 'S': 44, 'T': 45, 'U': 46, 'V': 47, 'W': 48, 'X': 49, 'Y': 50, 'Z': 51, '[': 52, ']': 53, '_': 54, 'a': 55, 'b': 56, 'c': 57, 'd': 58, 'e': 59, 'f': 60, 'g': 61, 'h': 62, 'i': 63, 'j': 64, 'k': 65, 'l': 66, 'm': 67, 'n': 68, 'o': 69, 'p': 70, 'q': 71, 'r': 72, 's': 73, 't': 74, 'u': 75, 'v': 76, 'w': 77, 'x': 78, 'y': 79, 'z': 80, '}': 81, '\\ufeff': 82}\n"
     ]
    }
   ],
   "source": [
    "import hw3.charnn as charnn\n",
    "\n",
    "char_to_idx, idx_to_char = charnn.char_maps(corpus)\n",
    "print(char_to_idx)\n",
    "\n",
    "test.assertEqual(len(char_to_idx), len(idx_to_char))\n",
    "test.assertSequenceEqual(list(char_to_idx.keys()), list(idx_to_char.values()))\n",
    "test.assertSequenceEqual(list(char_to_idx.values()), list(idx_to_char.keys()))"
   ]
  },
  {
   "cell_type": "markdown",
   "metadata": {},
   "source": [
    "Seems we have some strange characters in the corpus that are very rare and are probably due to mistakes.\n",
    "To reduce the length of each tensor we'll need to later represent our chars, it's best to remove them.\n",
    "\n",
    "**TODO**: Implement the `remove_chars()` function in the `hw3/charnn.py` module."
   ]
  },
  {
   "cell_type": "code",
   "execution_count": 90,
   "metadata": {
    "tags": []
   },
   "outputs": [
    {
     "name": "stdout",
     "output_type": "stream",
     "text": [
      "Removed 34 chars\n"
     ]
    }
   ],
   "source": [
    "corpus, n_removed = charnn.remove_chars(corpus, ['}','$','_','<','\\ufeff'])\n",
    "print(f'Removed {n_removed} chars')\n",
    "\n",
    "# After removing the chars, re-create the mappings\n",
    "char_to_idx, idx_to_char = charnn.char_maps(corpus)"
   ]
  },
  {
   "cell_type": "markdown",
   "metadata": {},
   "source": [
    "The next thing we need is an **embedding** of the chracters.\n",
    "An embedding is a representation of each token from the sequence as a tensor.\n",
    "For a char-level RNN, our tokens will be chars and we can thus use the simplest possible embedding: encode each char as a **one-hot** tensor. In other words, each char will be represented\n",
    "as a tensor whos length is the total number of unique chars (`V`) which contains all zeros except at the index\n",
    "corresponding to that specific char.\n",
    "\n",
    "**TODO**: Implement the functions `chars_to_onehot()` and `onehot_to_chars()` in the `hw3/charnn.py` module."
   ]
  },
  {
   "cell_type": "code",
   "execution_count": 91,
   "metadata": {
    "tags": []
   },
   "outputs": [
    {
     "name": "stdout",
     "output_type": "stream",
     "text": [
      "brine a maiden can season her praise in.\n",
      "   \n",
      "tensor([[0, 0, 0, 0, 0, 0, 0, 0, 0, 0, 0, 0, 0, 0, 0, 0, 0, 0, 0, 0, 0, 0, 0, 0,\n",
      "         0, 0, 0, 0, 0, 0, 0, 0, 0, 0, 0, 0, 0, 0, 0, 0, 0, 0, 0, 0, 0, 0, 0, 0,\n",
      "         0, 0, 0, 0, 0, 1, 0, 0, 0, 0, 0, 0, 0, 0, 0, 0, 0, 0, 0, 0, 0, 0, 0, 0,\n",
      "         0, 0, 0, 0, 0, 0],\n",
      "        [0, 0, 0, 0, 0, 0, 0, 0, 0, 0, 0, 0, 0, 0, 0, 0, 0, 0, 0, 0, 0, 0, 0, 0,\n",
      "         0, 0, 0, 0, 0, 0, 0, 0, 0, 0, 0, 0, 0, 0, 0, 0, 0, 0, 0, 0, 0, 0, 0, 0,\n",
      "         0, 0, 0, 0, 0, 0, 0, 0, 0, 0, 0, 0, 0, 0, 0, 0, 0, 0, 0, 0, 0, 1, 0, 0,\n",
      "         0, 0, 0, 0, 0, 0],\n",
      "        [0, 0, 0, 0, 0, 0, 0, 0, 0, 0, 0, 0, 0, 0, 0, 0, 0, 0, 0, 0, 0, 0, 0, 0,\n",
      "         0, 0, 0, 0, 0, 0, 0, 0, 0, 0, 0, 0, 0, 0, 0, 0, 0, 0, 0, 0, 0, 0, 0, 0,\n",
      "         0, 0, 0, 0, 0, 0, 0, 0, 0, 0, 0, 0, 1, 0, 0, 0, 0, 0, 0, 0, 0, 0, 0, 0,\n",
      "         0, 0, 0, 0, 0, 0]], dtype=torch.int8)\n"
     ]
    }
   ],
   "source": [
    "# Wrap the actual embedding functions for calling convenience\n",
    "def embed(text):\n",
    "    return charnn.chars_to_onehot(text, char_to_idx)\n",
    "\n",
    "def unembed(embedding):\n",
    "    return charnn.onehot_to_chars(embedding, idx_to_char)\n",
    "\n",
    "text_snippet = corpus[3104:3148]\n",
    "print(text_snippet)\n",
    "print(embed(text_snippet[0:3]))\n",
    "\n",
    "test.assertEqual(text_snippet, unembed(embed(text_snippet)))\n",
    "test.assertEqual(embed(text_snippet).dtype, torch.int8)"
   ]
  },
  {
   "cell_type": "markdown",
   "metadata": {},
   "source": [
    "### Dataset Creation\n",
    "<a id=part1_4></a>"
   ]
  },
  {
   "cell_type": "markdown",
   "metadata": {},
   "source": [
    "We wish to train our model to generate text by constantly predicting what the next char should be based on the past.\n",
    "To that end we'll need to train our recurrent network in a way similar to a classification task. At each timestep, we input a char and set the expected output (label) to be the next char in the original sequence.\n",
    "\n",
    "We will split our corpus into shorter sequences of length `S` chars (see question below).\n",
    "Each **sample** we provide our model with will therefore be a tensor of shape `(S,V)` where `V` is the embedding dimension. Our model will operate sequentially on each char in the sequence.\n",
    "For each sample, we'll also need a **label**. This is simply another sequence, shifted by one char so that the label of each char is the next char in the corpus."
   ]
  },
  {
   "cell_type": "markdown",
   "metadata": {},
   "source": [
    "**TODO**: Implement the `chars_to_labelled_samples()` function in the `hw3/charnn.py` module."
   ]
  },
  {
   "cell_type": "code",
   "execution_count": 92,
   "metadata": {
    "tags": []
   },
   "outputs": [
    {
     "name": "stdout",
     "output_type": "stream",
     "text": [
      "samples shape: torch.Size([99182, 64, 78])\n",
      "labels shape: torch.Size([99182, 64])\n"
     ]
    }
   ],
   "source": [
    "# Create dataset of sequences\n",
    "seq_len = 64\n",
    "vocab_len = len(char_to_idx)\n",
    "\n",
    "# Create labelled samples\n",
    "samples, labels = charnn.chars_to_labelled_samples(corpus, char_to_idx, seq_len, device)\n",
    "print(f'samples shape: {samples.shape}')\n",
    "print(f'labels shape: {labels.shape}')\n",
    "\n",
    "# Test shapes\n",
    "num_samples = (len(corpus) - 1) // seq_len\n",
    "test.assertEqual(samples.shape, (num_samples, seq_len, vocab_len))\n",
    "test.assertEqual(labels.shape, (num_samples, seq_len))\n",
    "\n",
    "# Test content\n",
    "for _ in range(1000):\n",
    "    # random sample\n",
    "    i = np.random.randint(num_samples, size=(1,))[0]\n",
    "    # Compare to corpus\n",
    "    test.assertEqual(unembed(samples[i]), corpus[i*seq_len:(i+1)*seq_len], msg=f\"content mismatch in sample {i}\")\n",
    "    # Compare to labels\n",
    "    sample_text = unembed(samples[i])\n",
    "    label_text = str.join('', [idx_to_char[j.item()] for j in labels[i]])\n",
    "    test.assertEqual(sample_text[1:], label_text[0:-1], msg=f\"label mismatch in sample {i}\")"
   ]
  },
  {
   "cell_type": "markdown",
   "metadata": {},
   "source": [
    "Let's print a few consecutive samples. You should see that the text continues between them."
   ]
  },
  {
   "cell_type": "code",
   "execution_count": 93,
   "metadata": {
    "tags": []
   },
   "outputs": [
    {
     "name": "stdout",
     "output_type": "stream",
     "text": [
      "sample [8768]:\n",
      "\tou may be abhorr'd Farther than seen, and one infect another\n",
      "sample [8769]:\n",
      "\tAgainst the wind a mile! You souls of geese That bear t\n",
      "sample [8770]:\n",
      "\the shapes of men, how have you run From slaves that apes wou\n",
      "sample [8771]:\n",
      "\tld beat! Pluto and hell! All hurt behind! Backs red, and fac\n",
      "sample [8772]:\n",
      "\tes pale With flight and agued fear! Mend and charge home,\n"
     ]
    }
   ],
   "source": [
    "import re\n",
    "import random\n",
    "\n",
    "i = random.randrange(num_samples-5)\n",
    "for i in range(i, i+5):\n",
    "    test.assertEqual(len(samples[i]), seq_len)\n",
    "    s = re.sub(r'\\s+', ' ', unembed(samples[i])).strip()\n",
    "    print(f'sample [{i}]:\\n\\t{s}')"
   ]
  },
  {
   "cell_type": "markdown",
   "metadata": {},
   "source": [
    "As usual, instead of feeding one sample at a time into our model's forward we'll work with **batches** of samples. This means that at every timestep, our model will operate on a batch of chars that are from **different sequences**.\n",
    "Effectively this will allow us to parallelize training our model by dong matrix-matrix multiplications\n",
    "instead of matrix-vector during the forward pass."
   ]
  },
  {
   "cell_type": "markdown",
   "metadata": {},
   "source": [
    "An important nuance is that we need the batches to be **contiguous**, i.e. sample $k$ in batch $j$ should continue sample $k$ from batch $j-1$.\n",
    "The following figure illustrates this:\n",
    "\n",
    "<img src=\"imgs/rnn-batching.png\"/>\n",
    "\n",
    "If we naïvely take consecutive samples into batches, e.g. `[0,1,...,B-1]`, `[B,B+1,...,2B-1]` and so on, we won't have contiguous\n",
    "sequences at the same index between adjacent batches.\n",
    "\n",
    "To accomplish this we need to tell our `DataLoader` which samples to combine together into one batch.\n",
    "We do this by implementing a custom PyTorch `Sampler`, and providing it to our `DataLoader`."
   ]
  },
  {
   "cell_type": "markdown",
   "metadata": {},
   "source": [
    "**TODO**: Implement the `SequenceBatchSampler` class in the `hw3/charnn.py` module."
   ]
  },
  {
   "cell_type": "code",
   "execution_count": 94,
   "metadata": {
    "tags": []
   },
   "outputs": [
    {
     "name": "stdout",
     "output_type": "stream",
     "text": [
      "sampler_idx =\n",
      " [0, 3, 6, 9, 12, 15, 18, 21, 24, 27, 1, 4, 7, 10, 13, 16, 19, 22, 25, 28, 2, 5, 8, 11, 14, 17, 20, 23, 26, 29]\n"
     ]
    }
   ],
   "source": [
    "from hw3.charnn import SequenceBatchSampler\n",
    "\n",
    "sampler = SequenceBatchSampler(dataset=range(32), batch_size=10)\n",
    "sampler_idx = list(sampler)\n",
    "print('sampler_idx =\\n', sampler_idx)\n",
    "\n",
    "# Test the Sampler\n",
    "test.assertEqual(len(sampler_idx), 30)\n",
    "batch_idx = np.array(sampler_idx).reshape(-1, 10)\n",
    "for k in range(10):\n",
    "    test.assertEqual(np.diff(batch_idx[:, k], n=2).item(), 0)"
   ]
  },
  {
   "cell_type": "markdown",
   "metadata": {},
   "source": [
    "Even though we're working with sequences, we can still use the standard PyTorch `Dataset`/`DataLoader` combo.\n",
    "For the dataset we can use a built-in class, `TensorDataset` to return tuples of `(sample, label)`\n",
    "from the `samples` and `labels` tensors we created above.\n",
    "The `DataLoader` will be provided with our custom `Sampler` so that it generates appropriate batches."
   ]
  },
  {
   "cell_type": "code",
   "execution_count": 95,
   "metadata": {
    "tags": []
   },
   "outputs": [],
   "source": [
    "import torch.utils.data\n",
    "\n",
    "# Create DataLoader returning batches of samples.\n",
    "batch_size = 32\n",
    "\n",
    "ds_corpus = torch.utils.data.TensorDataset(samples, labels)\n",
    "sampler_corpus = SequenceBatchSampler(ds_corpus, batch_size)\n",
    "dl_corpus = torch.utils.data.DataLoader(ds_corpus, batch_size=batch_size, sampler=sampler_corpus, shuffle=False)"
   ]
  },
  {
   "cell_type": "markdown",
   "metadata": {},
   "source": [
    "Let's see what that gives us:"
   ]
  },
  {
   "cell_type": "code",
   "execution_count": 96,
   "metadata": {
    "tags": []
   },
   "outputs": [
    {
     "name": "stdout",
     "output_type": "stream",
     "text": [
      "num batches: 3100\n",
      "shape of a batch of samples: torch.Size([32, 64, 78])\n",
      "shape of a batch of labels: torch.Size([32, 64])\n"
     ]
    }
   ],
   "source": [
    "print(f'num batches: {len(dl_corpus)}')\n",
    "\n",
    "x0, y0 = next(iter(dl_corpus))\n",
    "print(f'shape of a batch of samples: {x0.shape}')\n",
    "print(f'shape of a batch of labels: {y0.shape}')"
   ]
  },
  {
   "cell_type": "markdown",
   "metadata": {},
   "source": [
    "Now lets look at the same sample index from multiple batches taken from our corpus."
   ]
  },
  {
   "cell_type": "code",
   "execution_count": 97,
   "metadata": {
    "tags": []
   },
   "outputs": [
    {
     "name": "stdout",
     "output_type": "stream",
     "text": [
      "=== batch 0, sample 28 (torch.Size([64, 78])): ===\n",
      "\tious villain. Besides I say and will in battle prove, Or here or\n",
      "=== batch 1, sample 28 (torch.Size([64, 78])): ===\n",
      "\telsewhere to the furthest verge That ever was survey'd by Engli\n",
      "=== batch 2, sample 28 (torch.Size([64, 78])): ===\n",
      "\tsh eye, That all the treasons for these eighteen years Complotte\n",
      "=== batch 3, sample 28 (torch.Size([64, 78])): ===\n",
      "\td and contrived in this land Fetch from false Mowbray their firs\n",
      "=== batch 4, sample 28 (torch.Size([64, 78])): ===\n",
      "\tt head and spring. Further I say and further will maintain Upon\n"
     ]
    }
   ],
   "source": [
    "# Check that sentences in in same index of different batches complete each other.\n",
    "k = random.randrange(batch_size)\n",
    "for j, (X, y) in enumerate(dl_corpus,):\n",
    "    print(f'=== batch {j}, sample {k} ({X[k].shape}): ===')\n",
    "    s = re.sub(r'\\s+', ' ', unembed(X[k])).strip()\n",
    "    print(f'\\t{s}')\n",
    "    if j==4: break"
   ]
  },
  {
   "cell_type": "markdown",
   "metadata": {},
   "source": [
    "### Model Implementation\n",
    "<a id=part1_5></a>"
   ]
  },
  {
   "cell_type": "markdown",
   "metadata": {},
   "source": [
    "Finally, our data set is ready so we can focus on our model.\n",
    "\n",
    "We'll implement here is a multilayer gated recurrent unit (GRU) model, with dropout.\n",
    "This model is a type of RNN which performs similar to the well-known LSTM model,\n",
    "but it's somewhat easier to train because it has less parameters.\n",
    "We'll modify the regular GRU slightly by applying dropout to\n",
    "the hidden states passed between layers of the model.\n",
    "\n",
    "The model accepts an input $\\mat{X}\\in\\set{R}^{S\\times V}$ containing a sequence of embedded chars.\n",
    "It returns an output $\\mat{Y}\\in\\set{R}^{S\\times V}$ of predictions for the next char and the final hidden state\n",
    "$\\mat{H}\\in\\set{R}^{L\\times H}$. Here $S$ is the sequence length, $V$ is the vocabulary size (number of unique chars), $L$ is the number of layers in the model and $H$ is the hidden dimension."
   ]
  },
  {
   "cell_type": "markdown",
   "metadata": {},
   "source": [
    "Mathematically, the model's forward function at layer $k\\in[1,L]$ and timestep $t\\in[1,S]$ can be described as\n",
    "\n",
    "$$\n",
    "\\begin{align}\n",
    "\\vec{z_t}^{[k]} &= \\sigma\\left(\\vec{x}^{[k]}_t {\\mattr{W}_{\\mathrm{xz}}}^{[k]} +\n",
    "    \\vec{h}_{t-1}^{[k]} {\\mattr{W}_{\\mathrm{hz}}}^{[k]} + \\vec{b}_{\\mathrm{z}}^{[k]}\\right) \\\\\n",
    "\\vec{r_t}^{[k]} &= \\sigma\\left(\\vec{x}^{[k]}_t {\\mattr{W}_{\\mathrm{xr}}}^{[k]} +\n",
    "    \\vec{h}_{t-1}^{[k]} {\\mattr{W}_{\\mathrm{hr}}}^{[k]} + \\vec{b}_{\\mathrm{r}}^{[k]}\\right) \\\\\n",
    "\\vec{g_t}^{[k]} &= \\tanh\\left(\\vec{x}^{[k]}_t {\\mattr{W}_{\\mathrm{xg}}}^{[k]} +\n",
    "    (\\vec{r_t}^{[k]}\\odot\\vec{h}_{t-1}^{[k]}) {\\mattr{W}_{\\mathrm{hg}}}^{[k]} + \\vec{b}_{\\mathrm{g}}^{[k]}\\right) \\\\\n",
    "\\vec{h_t}^{[k]} &= \\vec{z}^{[k]}_t \\odot \\vec{h}^{[k]}_{t-1} + \\left(1-\\vec{z}^{[k]}_t\\right)\\odot \\vec{g_t}^{[k]}\n",
    "\\end{align}\n",
    "$$"
   ]
  },
  {
   "cell_type": "markdown",
   "metadata": {},
   "source": [
    "The input to each layer is,\n",
    "$$\n",
    "\\mat{X}^{[k]} =\n",
    "\\begin{bmatrix}\n",
    "    {\\vec{x}_1}^{[k]} \\\\ \\vdots \\\\ {\\vec{x}_S}^{[k]}\n",
    "\\end{bmatrix} \n",
    "=\n",
    "\\begin{cases}\n",
    "    \\mat{X} & \\mathrm{if} ~k = 1~ \\\\\n",
    "    \\mathrm{dropout}_p \\left(\n",
    "    \\begin{bmatrix}\n",
    "        {\\vec{h}_1}^{[k-1]} \\\\ \\vdots \\\\ {\\vec{h}_S}^{[k-1]}\n",
    "    \\end{bmatrix} \\right) & \\mathrm{if} ~1 < k \\leq L+1~\n",
    "\\end{cases}.\n",
    "$$"
   ]
  },
  {
   "cell_type": "markdown",
   "metadata": {},
   "source": [
    "The output of the entire model is then,\n",
    "$$\n",
    "\\mat{Y} = \\mat{X}^{[L+1]} {\\mattr{W}_{\\mathrm{hy}}} + \\mat{B}_{\\mathrm{y}}\n",
    "$$"
   ]
  },
  {
   "cell_type": "markdown",
   "metadata": {},
   "source": [
    "and the final hidden state is\n",
    "$$\n",
    "\\mat{H} = \n",
    "\\begin{bmatrix}\n",
    "    {\\vec{h}_S}^{[1]} \\\\ \\vdots \\\\ {\\vec{h}_S}^{[L]}\n",
    "\\end{bmatrix}.\n",
    "$$"
   ]
  },
  {
   "cell_type": "markdown",
   "metadata": {},
   "source": [
    "Notes:\n",
    "- $t\\in[1,S]$ is the timestep, i.e. the current position within the sequence of each sample.\n",
    "- $\\vec{x}_t^{[k]}$ is the input of layer $k$ at timestep $t$, respectively.\n",
    "- The outputs of the **last layer** $\\vec{y}_t^{[L]}$, are the predicted next characters for every input char.\n",
    "  These are similar to class scores in classification tasks.\n",
    "- The hidden states at the **last timestep**, $\\vec{h}_S^{[k]}$, are the final hidden state returned from the model.\n",
    "- $\\sigma(\\cdot)$ is the sigmoid function, i.e. $\\sigma(\\vec{z}) = 1/(1+e^{-\\vec{z}})$ which returns values in $(0,1)$.\n",
    "- $\\tanh(\\cdot)$ is the hyperbolic tangent, i.e. $\\tanh(\\vec{z}) = (e^{2\\vec{z}}-1)/(e^{2\\vec{z}}+1)$ which returns values in $(-1,1)$.\n",
    "- $\\vec{h_t}^{[k]}$ is the hidden state of layer $k$ at time $t$. This can be thought of as the memory of that layer.\n",
    "- $\\vec{g_t}^{[k]}$ is the candidate hidden state for time $t+1$.\n",
    "- $\\vec{z_t}^{[k]}$ is known as the update gate. It combines the previous state with the input to determine how much the current state will be combined with the new candidate state. For example, if $\\vec{z_t}^{[k]}=\\vec{1}$ then the current input has no effect on the output.\n",
    "- $\\vec{r_t}^{[k]}$ is known as the reset gate. It combines the previous state with the input to determine how much of the previous state will affect the current state candidate. For example if $\\vec{r_t}^{[k]}=\\vec{0}$ the previous state has no effect on the current candidate state."
   ]
  },
  {
   "cell_type": "markdown",
   "metadata": {},
   "source": [
    "Here's a graphical representation of the GRU's forward pass at each timestep. The $\\vec{\\tilde{h}}$ in the image is our $\\vec{g}$ (candidate next state).\n",
    "\n",
    "<img src=\"imgs/gru_cell.png\" width=\"400\"/>\n",
    "\n",
    "You can see how the reset and update gates allow the model to completely ignore it's previous state, completely ignore it's input, or any mixture of those states (since the gates are actually continuous and between $(0,1)$)."
   ]
  },
  {
   "cell_type": "markdown",
   "metadata": {},
   "source": [
    "Here's a graphical representation of the entire model.\n",
    "You can ignore the $c_t^{[k]}$ (cell state) variables (which are relevant for LSTM models).\n",
    "Our model has only the hidden state, $h_t^{[k]}$. Also notice that we added dropout between layers (i.e., on the up arrows).\n",
    "\n",
    "<img src=\"imgs/lstm_model.png\" />\n",
    "\n",
    "The purple tensors are inputs (a sequence and initial hidden state per layer), and the green tensors are outputs (another sequence and final hidden state per layer). Each blue block implements the above forward equations.\n",
    "Blocks that are on the same vertical level are at the same layer, and therefore share parameters."
   ]
  },
  {
   "cell_type": "markdown",
   "metadata": {},
   "source": [
    "**TODO**: Implement the `MultilayerGRU` class in the `hw3/charnn.py` module.\n",
    "\n",
    "Notes:\n",
    "- You'll need to handle input **batches** now.\n",
    "  The math is identical to the above, but all the tensors will have an extra batch\n",
    "  dimension as their first dimension.\n",
    "- Use the diagram above to help guide your implementation.\n",
    "  It will help you visualize what shapes to returns where, etc.\n"
   ]
  },
  {
   "cell_type": "code",
   "execution_count": 98,
   "metadata": {
    "tags": []
   },
   "outputs": [
    {
     "name": "stdout",
     "output_type": "stream",
     "text": [
      "MultilayerGRU(\n",
      "  (W_xz_0): Linear(in_features=78, out_features=256, bias=False)\n",
      "  (W_hz_0): Linear(in_features=256, out_features=256, bias=True)\n",
      "  (W_xr_0): Linear(in_features=78, out_features=256, bias=False)\n",
      "  (W_hr_0): Linear(in_features=256, out_features=256, bias=True)\n",
      "  (W_xg_0): Linear(in_features=78, out_features=256, bias=False)\n",
      "  (W_hg_0): Linear(in_features=256, out_features=256, bias=True)\n",
      "  (dropout_0): Dropout(p=0, inplace=False)\n",
      "  (W_xz_1): Linear(in_features=256, out_features=256, bias=False)\n",
      "  (W_hz_1): Linear(in_features=256, out_features=256, bias=True)\n",
      "  (W_xr_1): Linear(in_features=256, out_features=256, bias=False)\n",
      "  (W_hr_1): Linear(in_features=256, out_features=256, bias=True)\n",
      "  (W_xg_1): Linear(in_features=256, out_features=256, bias=False)\n",
      "  (W_hg_1): Linear(in_features=256, out_features=256, bias=True)\n",
      "  (dropout_1): Dropout(p=0, inplace=False)\n",
      "  (W_xz_2): Linear(in_features=256, out_features=256, bias=False)\n",
      "  (W_hz_2): Linear(in_features=256, out_features=256, bias=True)\n",
      "  (W_xr_2): Linear(in_features=256, out_features=256, bias=False)\n",
      "  (W_hr_2): Linear(in_features=256, out_features=256, bias=True)\n",
      "  (W_xg_2): Linear(in_features=256, out_features=256, bias=False)\n",
      "  (W_hg_2): Linear(in_features=256, out_features=256, bias=True)\n",
      "  (dropout_2): Dropout(p=0, inplace=False)\n",
      "  (fc_y): Linear(in_features=256, out_features=78, bias=True)\n",
      "  (W_hy): Linear(in_features=256, out_features=78, bias=True)\n",
      ")\n",
      "y.shape=torch.Size([32, 64, 78])\n",
      "h.shape=torch.Size([32, 3, 256])\n"
     ]
    }
   ],
   "source": [
    "in_dim = vocab_len\n",
    "h_dim = 256\n",
    "n_layers = 3\n",
    "model = charnn.MultilayerGRU(in_dim, h_dim, out_dim=in_dim, n_layers=n_layers)\n",
    "model = model.to(device)\n",
    "print(model)\n",
    "\n",
    "# Test forward pass\n",
    "y, h = model(x0.to(dtype=torch.float, device=device))\n",
    "print(f'y.shape={y.shape}')\n",
    "print(f'h.shape={h.shape}')\n",
    "\n",
    "test.assertEqual(y.shape, (batch_size, seq_len, vocab_len))\n",
    "test.assertEqual(h.shape, (batch_size, n_layers, h_dim))\n",
    "test.assertEqual(len(list(model.parameters())), 9 * n_layers + 2) "
   ]
  },
  {
   "cell_type": "markdown",
   "metadata": {},
   "source": [
    "### Generating text by sampling\n",
    "<a id=part1_6></a>"
   ]
  },
  {
   "cell_type": "markdown",
   "metadata": {},
   "source": [
    "Now that we have a model, we can implement **text generation** based on it.\n",
    "The idea is simple:\n",
    "At each timestep our model receives one char $x_t$ from the input sequence and outputs scores $y_t$\n",
    "for what the next char should be.\n",
    "We'll convert these scores into a probability over each of the possible chars.\n",
    "In other words, for each input char $x_t$ we create a probability distribution for the next char\n",
    "conditioned on the current one and the state of the model (representing all previous inputs):\n",
    "$$p(x_{t+1}|x_t, \\vec{h}_t).$$\n",
    "\n",
    "Once we have such a distribution, we'll sample a char from it.\n",
    "This will be the first char of our generated sequence.\n",
    "Now we can feed this new char into the model, create another distribution, sample the next char and so on.\n",
    "Note that it's crucial to propagate the hidden state when sampling."
   ]
  },
  {
   "cell_type": "markdown",
   "metadata": {},
   "source": [
    "The important point however is how to create the distribution from the scores.\n",
    "One way, as we saw in previous ML tasks, is to use the softmax function.\n",
    "However, a drawback of softmax is that it can generate very diffuse (more uniform) distributions if the score values are very similar. When sampling, we would prefer to control the distributions and make them less uniform to increase the chance of sampling the char(s) with the highest scores compared to the others.\n",
    "\n",
    "To control the variance of the distribution, a common trick is to add a hyperparameter $T$, known as the \n",
    "*temperature* to the softmax function. The class scores are simply scaled by $T$ before softmax is applied:\n",
    "$$\n",
    "\\mathrm{softmax}_T(\\vec{y}) = \\frac{e^{\\vec{y}/T}}{\\sum_k e^{y_k/T}}\n",
    "$$\n",
    "\n",
    "A low $T$ will result in less uniform distributions and vice-versa."
   ]
  },
  {
   "cell_type": "markdown",
   "metadata": {},
   "source": [
    "**TODO**: Implement the `hot_softmax()` function in the `hw3/charnn.py` module."
   ]
  },
  {
   "cell_type": "code",
   "execution_count": 99,
   "metadata": {
    "tags": []
   },
   "outputs": [
    {
     "data": {
      "image/png": "[encoded data removed]",
      "text/plain": [
       "<Figure size 1080x360 with 1 Axes>"
      ]
     },
     "metadata": {
      "needs_background": "light"
     },
     "output_type": "display_data"
    }
   ],
   "source": [
    "scores = y[0,0,:].detach()\n",
    "_, ax = plt.subplots(figsize=(15,5))\n",
    "\n",
    "for t in reversed([0.3, 0.5, 1.0, 100]):\n",
    "    ax.plot(charnn.hot_softmax(scores, temperature=t).cpu().numpy(), label=f'T={t}')\n",
    "ax.set_xlabel('$x_{t+1}$')\n",
    "ax.set_ylabel('$p(x_{t+1}|x_t)$')\n",
    "ax.legend()\n",
    "\n",
    "uniform_proba = 1/len(char_to_idx)\n",
    "uniform_diff = torch.abs(charnn.hot_softmax(scores, temperature=100) - uniform_proba)\n",
    "test.assertTrue(torch.all(uniform_diff < 1e-4))"
   ]
  },
  {
   "cell_type": "markdown",
   "metadata": {},
   "source": [
    "**TODO**: Implement the `generate_from_model()` function in the `hw3/charnn.py` module."
   ]
  },
  {
   "cell_type": "code",
   "execution_count": 100,
   "metadata": {
    "tags": []
   },
   "outputs": [
    {
     "name": "stdout",
     "output_type": "stream",
     "text": [
      "foobarqHzeE1'hxeo'jKsxY\"KtHZk,biLXc&QXB[l[nn]-?KI0\n",
      "foobariqoasxiCubZP9A&LiY'G1puWTfVw&i;Epc-\n",
      "wYi;6W]P\n",
      "foobarSp'fiAo3bICeW4KuG4tEBk[ee[RMlRCp2:arnLG84E0V\n"
     ]
    }
   ],
   "source": [
    "for _ in range(3):\n",
    "    text = charnn.generate_from_model(model, \"foobar\", 50, (char_to_idx, idx_to_char), T=0.5)\n",
    "    print(text)\n",
    "    test.assertEqual(len(text), 50)"
   ]
  },
  {
   "cell_type": "markdown",
   "metadata": {},
   "source": [
    "### Training\n",
    "<a id=part1_7></a>"
   ]
  },
  {
   "cell_type": "markdown",
   "metadata": {},
   "source": [
    "To train this model, we'll calculate the loss at each time step by comparing the predicted char to\n",
    "the actual char from our label. We can use cross entropy since per char it's similar to a classification problem.\n",
    "We'll then sum the losses over the sequence and back-propagate the gradients though time.\n",
    "Notice that the back-propagation algorithm will \"visit\" each layer's parameter tensors multiple times,\n",
    "so we'll accumulate gradients in parameters of the blocks. Luckily `autograd` will handle this part for us."
   ]
  },
  {
   "cell_type": "markdown",
   "metadata": {},
   "source": [
    "As usual, the first step of training will be to try and **overfit** a large model (many parameters) to a tiny dataset.\n",
    "Again, this is to ensure the model and training code are implemented correctly, i.e. that the model can learn.\n",
    "\n",
    "For a generative model such as this, overfitting is slightly trickier than for classification.\n",
    "What we'll aim to do is to get our model to **memorize** a specific sequence of chars, so that when given the first\n",
    "char in the sequence it will immediately spit out the rest of the sequence verbatim.\n",
    "\n",
    "Let's create a tiny dataset to memorize."
   ]
  },
  {
   "cell_type": "code",
   "execution_count": 101,
   "metadata": {
    "tags": []
   },
   "outputs": [
    {
     "name": "stdout",
     "output_type": "stream",
     "text": [
      "Text to \"memorize\":\n",
      "\n",
      "TRAM. What would you have?\n",
      "  HELENA. Something; and scarce so much; nothing, indeed.\n",
      "    I would not tell you what I would, my lord.\n",
      "    Faith, yes:\n",
      "    Strangers and foes do sunder and not kiss.\n",
      "  BERTRAM. I pray you, stay not, but in haste to horse.\n",
      "  HE\n"
     ]
    }
   ],
   "source": [
    "# Pick a tiny subset of the dataset\n",
    "subset_start, subset_end = 1001, 1005\n",
    "ds_corpus_ss = torch.utils.data.Subset(ds_corpus, range(subset_start, subset_end))\n",
    "batch_size_ss = 1\n",
    "sampler_ss = SequenceBatchSampler(ds_corpus_ss, batch_size=batch_size_ss)\n",
    "dl_corpus_ss = torch.utils.data.DataLoader(ds_corpus_ss, batch_size_ss, sampler=sampler_ss, shuffle=False)\n",
    "\n",
    "# Convert subset to text\n",
    "subset_text = ''\n",
    "for i in range(subset_end - subset_start):\n",
    "    subset_text += unembed(ds_corpus_ss[i][0])\n",
    "print(f'Text to \"memorize\":\\n\\n{subset_text}')"
   ]
  },
  {
   "cell_type": "markdown",
   "metadata": {},
   "source": [
    "Now let's implement the first part of our training code.\n",
    "\n",
    "**TODO**: Implement the `train_epoch()` and `train_batch()` methods of the `RNNTrainer` class in the `hw3/training.py` module. \n",
    "You must think about how to correctly handle the hidden state of the model between batches and epochs for this specific task (i.e. text generation)."
   ]
  },
  {
   "cell_type": "code",
   "execution_count": 102,
   "metadata": {
    "tags": []
   },
   "outputs": [
    {
     "name": "stdout",
     "output_type": "stream",
     "text": [
      "\n",
      "Epoch #1: Avg. loss = 3.940, Accuracy = 17.58%\n",
      "Tt                                                                                                                                                                                                                                           o                  \n",
      "\n",
      "Epoch #25: Avg. loss = 0.274, Accuracy = 96.09%\n",
      "TAM. What would you have?\n",
      "  HELENA. Something; and scarce so much; nothing, indeed.\n",
      "    I would not indeed.\n",
      "    I would not tell you what I would, stand not kiss.\n",
      "  BERTRAM. I pray you, stay not, but in haste to horse.\n",
      "  HELERAM. I pray you, stay not, but \n",
      "\n",
      "Epoch #50: Avg. loss = 0.008, Accuracy = 100.00%\n",
      "TRAM. What would you have?\n",
      "  HELENA. Something; and scarce so much; nothing, indeed.\n",
      "    I would not tell you what I would, my lord.\n",
      "    Faith, yes:\n",
      "    Strangers and foes do sunder and not kiss.\n",
      "  BERTRAM. I pray you, stay not, but in haste to horse.\n",
      "  HE\n"
     ]
    }
   ],
   "source": [
    "import torch.nn as nn\n",
    "import torch.optim as optim\n",
    "from hw3.training import RNNTrainer\n",
    "\n",
    "torch.manual_seed(42)\n",
    "\n",
    "lr = 0.01\n",
    "num_epochs = 500\n",
    "\n",
    "in_dim = vocab_len\n",
    "h_dim = 128\n",
    "n_layers = 2\n",
    "loss_fn = nn.CrossEntropyLoss()\n",
    "model = charnn.MultilayerGRU(in_dim, h_dim, out_dim=in_dim, n_layers=n_layers).to(device)\n",
    "optimizer = optim.Adam(model.parameters(), lr=lr)\n",
    "trainer = RNNTrainer(model, loss_fn, optimizer, device)\n",
    "\n",
    "for epoch in range(num_epochs):\n",
    "    epoch_result = trainer.train_epoch(dl_corpus_ss, verbose=False)\n",
    "    \n",
    "    # Every X epochs, we'll generate a sequence starting from the first char in the first sequence\n",
    "    # to visualize how/if/what the model is learning.\n",
    "    if epoch == 0 or (epoch+1) % 25 == 0:\n",
    "        avg_loss = np.mean(epoch_result.losses)\n",
    "        accuracy = np.mean(epoch_result.accuracy)\n",
    "        print(f'\\nEpoch #{epoch+1}: Avg. loss = {avg_loss:.3f}, Accuracy = {accuracy:.2f}%')\n",
    "        \n",
    "        generated_sequence = charnn.generate_from_model(model, subset_text[0],\n",
    "                                                        seq_len*(subset_end-subset_start),\n",
    "                                                        (char_to_idx,idx_to_char), T=0.1)\n",
    "        \n",
    "        # Stop if we've successfully memorized the small dataset.\n",
    "        print(generated_sequence)\n",
    "        if generated_sequence == subset_text:\n",
    "            break\n",
    "\n",
    "# Test successful overfitting\n",
    "test.assertGreater(epoch_result.accuracy, 99)\n",
    "test.assertEqual(generated_sequence, subset_text)"
   ]
  },
  {
   "cell_type": "markdown",
   "metadata": {},
   "source": [
    "OK, so training works - we can memorize a short sequence.\n",
    "We'll now train a much larger model on our large dataset. You'll need a GPU for this part.\n",
    "\n",
    "First, lets set up our dataset and models for training.\n",
    "We'll split our corpus into 90% train and 10% test-set.\n",
    "Also, we'll use a learning-rate scheduler to control the learning rate during training."
   ]
  },
  {
   "cell_type": "markdown",
   "metadata": {},
   "source": [
    "**TODO**: Set the hyperparameters in the `part1_rnn_hyperparams()` function of the `hw3/answers.py` module."
   ]
  },
  {
   "cell_type": "code",
   "execution_count": 103,
   "metadata": {
    "tags": []
   },
   "outputs": [
    {
     "name": "stdout",
     "output_type": "stream",
     "text": [
      "hyperparams:\n",
      " {'batch_size': 512, 'seq_len': 64, 'h_dim': 128, 'n_layers': 3, 'dropout': 0.3, 'learn_rate': 0.01, 'lr_sched_factor': 0.001, 'lr_sched_patience': 0.0001}\n",
      "Train: 174 batches, 5701632 chars\n",
      "Test:   19 batches,  622592 chars\n"
     ]
    }
   ],
   "source": [
    "from hw3.answers import part1_rnn_hyperparams\n",
    "\n",
    "hp = part1_rnn_hyperparams()\n",
    "print('hyperparams:\\n', hp)\n",
    "\n",
    "### Dataset definition\n",
    "vocab_len = len(char_to_idx)\n",
    "batch_size = hp['batch_size']\n",
    "seq_len = hp['seq_len']\n",
    "train_test_ratio = 0.9\n",
    "num_samples = (len(corpus) - 1) // seq_len\n",
    "num_train = int(train_test_ratio * num_samples)\n",
    "\n",
    "samples, labels = charnn.chars_to_labelled_samples(corpus, char_to_idx, seq_len, device)\n",
    "\n",
    "ds_train = torch.utils.data.TensorDataset(samples[:num_train], labels[:num_train])\n",
    "sampler_train = SequenceBatchSampler(ds_train, batch_size)\n",
    "dl_train = torch.utils.data.DataLoader(ds_train, batch_size, shuffle=False, sampler=sampler_train, drop_last=True)\n",
    "\n",
    "ds_test = torch.utils.data.TensorDataset(samples[num_train:], labels[num_train:])\n",
    "sampler_test = SequenceBatchSampler(ds_test, batch_size)\n",
    "dl_test = torch.utils.data.DataLoader(ds_test, batch_size, shuffle=False, sampler=sampler_test, drop_last=True)\n",
    "\n",
    "print(f'Train: {len(dl_train):3d} batches, {len(dl_train)*batch_size*seq_len:7d} chars')\n",
    "print(f'Test:  {len(dl_test):3d} batches, {len(dl_test)*batch_size*seq_len:7d} chars')\n",
    "\n",
    "### Training definition\n",
    "in_dim = out_dim = vocab_len\n",
    "checkpoint_file = 'checkpoints/rnn'\n",
    "num_epochs = 50\n",
    "early_stopping = 5\n",
    "\n",
    "model = charnn.MultilayerGRU(in_dim, hp['h_dim'], out_dim, hp['n_layers'], hp['dropout'])\n",
    "loss_fn = nn.CrossEntropyLoss()\n",
    "optimizer = optim.Adam(model.parameters(), lr=hp['learn_rate'])\n",
    "scheduler = optim.lr_scheduler.ReduceLROnPlateau(\n",
    "    optimizer, mode='max', factor=hp['lr_sched_factor'], patience=hp['lr_sched_patience'], verbose=True\n",
    ")\n",
    "trainer = RNNTrainer(model, loss_fn, optimizer, device)"
   ]
  },
  {
   "cell_type": "markdown",
   "metadata": {},
   "source": [
    "The code blocks below will train the model and save checkpoints containing the training state and the best model parameters to a file. This allows you to stop training and resume it later from where you left.\n",
    "\n",
    "Note that you can use the `main.py` script provided within the assignment folder to run this notebook from the command line as if it were a python script by using the `run-nb` subcommand. This allows you to train your model using this notebook without starting jupyter. You can combine this with `srun` or `sbatch` to run the notebook with a GPU on the course servers."
   ]
  },
  {
   "cell_type": "markdown",
   "metadata": {},
   "source": [
    "**TODO**:\n",
    "- Implement the `fit()` method of the `Trainer` class. You can reuse the relevant implementation parts from HW2, but make sure to implement early stopping and checkpoints.\n",
    "- Implement the `test_epoch()` and `test_batch()` methods of the `RNNTrainer` class in the `hw3/training.py` module.\n",
    "- Run the following block to train.\n",
    "- When training is done and you're satisfied with the model's outputs, rename the checkpoint file to `checkpoints/rnn_final.pt`.\n",
    "  This will cause the block to skip training and instead load your saved model when running the homework submission script.\n",
    "  Note that your submission zip file will not include the checkpoint file. This is OK."
   ]
  },
  {
   "cell_type": "code",
   "execution_count": 105,
   "metadata": {
    "tags": []
   },
   "outputs": [
    {
     "name": "stdout",
     "output_type": "stream",
     "text": [
      "ACT I. I will his hears seet do my ling,\n",
      "    The wall that the grate the range\n",
      "    I have the tame t\n",
      "--- EPOCH 1/50 ---\n",
      "train_batch (Avg. Loss 1.770, Accuracy 48.9): 100%|█| 174/174 [03:32<00:00,  1.2\n",
      "test_batch (Avg. Loss 1.734, Accuracy 47.9): 100%|█| 19/19 [00:09<00:00,  2.07it\n",
      "ACT I.\n",
      "    That was the world to the world father\n",
      "    The nother pretiles and here to men were the w\n",
      "--- EPOCH 2/50 ---\n",
      "train_batch (Avg. Loss 1.637, Accuracy 52.3): 100%|█| 174/174 [03:50<00:00,  1.3\n",
      "test_batch (Avg. Loss 1.627, Accuracy 50.8): 100%|█| 19/19 [00:10<00:00,  1.73it\n",
      "ACT I.\n",
      "  SHELLEA. Ell with since his lave the son, and they shall hear the company\n",
      "     And was so b\n",
      "--- EPOCH 3/50 ---\n",
      "train_batch (Avg. Loss 1.569, Accuracy 54.1): 100%|█| 174/174 [04:01<00:00,  1.3\n",
      "test_batch (Avg. Loss 1.572, Accuracy 52.5): 100%|█| 19/19 [00:12<00:00,  1.47it\n",
      "ACT I.\n",
      "  CASSIO. What so fair company to my lord.\n",
      "  SECOND LARON. I was my lord; sir, I to me the mo\n",
      "--- EPOCH 4/50 ---\n",
      "train_batch (Avg. Loss 1.530, Accuracy 55.1): 100%|█| 174/174 [04:11<00:00,  1.4\n",
      "test_batch (Avg. Loss 1.534, Accuracy 53.4): 100%|█| 19/19 [00:11<00:00,  1.61it\n",
      "ACT I. And I shall be look\n",
      "    his past and to my service in this give me too seen\n",
      "    To not well a\n",
      "--- EPOCH 5/50 ---\n",
      "train_batch (Avg. Loss 1.500, Accuracy 55.8): 100%|█| 174/174 [04:05<00:00,  1.4\n",
      "test_batch (Avg. Loss 1.513, Accuracy 53.9): 100%|█| 19/19 [00:13<00:00,  1.46it\n",
      "ACT I. Come, nor the strong party\n",
      "    to my word with the world will to the end and men and good don\n",
      "--- EPOCH 6/50 ---\n",
      "train_batch (Avg. Loss 1.481, Accuracy 56.3): 100%|█| 174/174 [04:16<00:00,  1.4\n",
      "test_batch (Avg. Loss 1.502, Accuracy 54.4): 100%|█| 19/19 [00:11<00:00,  1.60it\n",
      "ACT I.\n",
      "And breath, the beds and that then as you am I not stay\n",
      "    To the good sight of runged despr\n",
      "--- EPOCH 7/50 ---\n",
      "train_batch (Avg. Loss 1.467, Accuracy 56.6): 100%|█| 174/174 [04:05<00:00,  1.4\n",
      "test_batch (Avg. Loss 1.497, Accuracy 54.3): 100%|█| 19/19 [00:12<00:00,  1.56it\n",
      "Epoch     7: reducing learning rate of group 0 to 1.0000e-05.\n",
      "ACT I.\n",
      "What was you are the man?\n",
      "  SILVIA. I will so make them to his heart of not title the town co\n",
      "--- EPOCH 8/50 ---\n",
      "train_batch (Avg. Loss 1.450, Accuracy 57.0): 100%|█| 174/174 [03:59<00:00,  1.3\n",
      "test_batch (Avg. Loss 1.485, Accuracy 54.7): 100%|█| 19/19 [00:13<00:00,  1.44it\n",
      "ACT I.\n",
      "    I had been that send well and thought and breath in the come,\n",
      "    I have not all the grac\n",
      "--- EPOCH 9/50 ---\n",
      "train_batch (Avg. Loss 1.444, Accuracy 57.2): 100%|█| 174/174 [04:09<00:00,  1.4\n",
      "test_batch (Avg. Loss 1.482, Accuracy 54.8): 100%|█| 19/19 [00:11<00:00,  1.61it\n",
      "ACT I.\n",
      "\n",
      "  CONDARY. The great house of his man is to the constries. I am\n",
      "    a good morrow of our fat\n",
      "--- EPOCH 10/50 ---\n",
      "train_batch (Avg. Loss 1.440, Accuracy 57.3): 100%|█| 174/174 [04:01<00:00,  1.3\n",
      "test_batch (Avg. Loss 1.480, Accuracy 54.9): 100%|█| 19/19 [00:12<00:00,  1.49it\n",
      "ACT I.\n",
      "  ROSALIND. You have been the third in thy state to say.\n",
      "  GRAMIO. He will not come with a mo\n",
      "--- EPOCH 11/50 ---\n",
      "train_batch (Avg. Loss 1.438, Accuracy 57.4): 100%|█| 174/174 [04:09<00:00,  1.4\n",
      "test_batch (Avg. Loss 1.478, Accuracy 54.9): 100%|█| 19/19 [00:12<00:00,  1.58it\n",
      "ACT I.\n",
      "But the body of the man the world to my born\n",
      "    In his confess and most with the grace,\n",
      "    \n",
      "--- EPOCH 12/50 ---\n",
      "train_batch (Avg. Loss 1.436, Accuracy 57.4): 100%|█| 174/174 [03:56<00:00,  1.3\n",
      "test_batch (Avg. Loss 1.477, Accuracy 55.0): 100%|█| 19/19 [00:09<00:00,  1.96it\n",
      "ACT I.\n",
      "And the state of the man to a strong cheek of the royal thing\n",
      "    in the heart of my thoughts\n",
      "--- EPOCH 13/50 ---\n",
      "train_batch (Avg. Loss 1.435, Accuracy 57.4): 100%|█| 174/174 [03:30<00:00,  1.2\n",
      "test_batch (Avg. Loss 1.476, Accuracy 55.0): 100%|█| 19/19 [00:08<00:00,  2.22it\n",
      "ACT I.\n",
      "  SIR TOMY. Fellow the country of my master, the purpose of more\n",
      "    some courtesy and the li\n",
      "--- EPOCH 14/50 ---\n",
      "train_batch (Avg. Loss 1.433, Accuracy 57.5): 100%|█| 174/174 [03:21<00:00,  1.1\n",
      "test_batch (Avg. Loss 1.475, Accuracy 55.0): 100%|█| 19/19 [00:06<00:00,  2.81it\n",
      "ACT I.\n",
      "  COMINIUS. Have I have not?\n",
      "  KING HENRY. The arm of the earth of my true.\n",
      "  BRUTUS. The way\n",
      "--- EPOCH 15/50 ---\n",
      "train_batch (Avg. Loss 1.432, Accuracy 57.5): 100%|█| 174/174 [03:20<00:00,  1.1\n",
      "test_batch (Avg. Loss 1.474, Accuracy 55.1): 100%|█| 19/19 [00:08<00:00,  2.20it\n",
      "ACT I.\n",
      "\n",
      "SCENE VI.\n",
      "What the world is made him.\n",
      "\n",
      "Enter MORTINUS, and ANTONY, EROZARS\n",
      "\n",
      "  PORTIA. He hat\n",
      "--- EPOCH 16/50 ---\n",
      "train_batch (Avg. Loss 1.431, Accuracy 57.6): 100%|█| 174/174 [03:33<00:00,  1.2\n",
      "test_batch (Avg. Loss 1.473, Accuracy 55.1): 100%|█| 19/19 [00:08<00:00,  2.25it\n",
      "ACT I.\n",
      "And well the country made the world be a totter\n",
      "    Maned here ever the beard of the Personor\n",
      "--- EPOCH 17/50 ---\n",
      "train_batch (Avg. Loss 1.430, Accuracy 57.6): 100%|█| 174/174 [03:34<00:00,  1.2\n",
      "test_batch (Avg. Loss 1.472, Accuracy 55.1): 100%|█| 19/19 [00:10<00:00,  1.77it\n",
      "ACT I.\n",
      "  PRINCESS OF FARDIN SERVANT. The curse with her so in fortune,\n",
      "    With disposition and the \n",
      "--- EPOCH 18/50 ---\n",
      "train_batch (Avg. Loss 1.429, Accuracy 57.6): 100%|█| 174/174 [03:31<00:00,  1.2\n",
      "test_batch (Avg. Loss 1.471, Accuracy 55.1): 100%|█| 19/19 [00:10<00:00,  1.83it\n",
      "ACT I.\n",
      "  SECOND SERVANT. O, my lord, the world of his cousin\n",
      "    And with the courtesy that you have\n",
      "--- EPOCH 19/50 ---\n",
      "train_batch (Avg. Loss 1.428, Accuracy 57.6): 100%|█| 174/174 [03:35<00:00,  1.2\n",
      "test_batch (Avg. Loss 1.471, Accuracy 55.2): 100%|█| 19/19 [00:11<00:00,  1.64it\n",
      "ACT I.\n",
      "Bore with the book of the intent.\n",
      "  ANTONY. Why, sir, the more birth with thee to say I am a \n",
      "--- EPOCH 20/50 ---\n",
      "train_batch (Avg. Loss 1.428, Accuracy 57.6): 100%|█| 174/174 [03:35<00:00,  1.2\n",
      "test_batch (Avg. Loss 1.470, Accuracy 55.2): 100%|█| 19/19 [00:09<00:00,  1.95it\n",
      "ACT I.\n",
      "  SECOND SERVANT. And I have a fair earth not so say.\n",
      "    I have these things and not to the \n",
      "--- EPOCH 21/50 ---\n",
      "train_batch (Avg. Loss 1.427, Accuracy 57.7): 100%|█| 174/174 [03:35<00:00,  1.2\n",
      "test_batch (Avg. Loss 1.469, Accuracy 55.2): 100%|█| 19/19 [00:08<00:00,  2.16it\n",
      "ACT I.\n",
      "  SARUSNON. I have done the man and the country shall be the stand\n",
      "    to his patience.\n",
      "  ANT\n",
      "--- EPOCH 22/50 ---\n",
      "train_batch (Avg. Loss 1.427, Accuracy 57.7): 100%|█| 174/174 [03:32<00:00,  1.2\n",
      "test_batch (Avg. Loss 1.469, Accuracy 55.2): 100%|█| 19/19 [00:10<00:00,  1.78it\n",
      "ACT I.\n",
      "\n",
      "  Lord Capial, and see your country use to the court\n",
      "    would be men and the company of my \n",
      "--- EPOCH 23/50 ---\n",
      "train_batch (Avg. Loss 1.426, Accuracy 57.7): 100%|█| 174/174 [03:32<00:00,  1.2\n",
      "test_batch (Avg. Loss 1.468, Accuracy 55.2): 100%|█| 19/19 [00:09<00:00,  1.90it\n",
      "ACT I.\n",
      "And and the true can shall be reason and the rosaling\n",
      "    make our assings to tell me to with\n",
      "--- EPOCH 24/50 ---\n",
      "train_batch (Avg. Loss 1.425, Accuracy 57.7): 100%|█| 174/174 [03:29<00:00,  1.2\n",
      "test_batch (Avg. Loss 1.468, Accuracy 55.2): 100%|█| 19/19 [00:10<00:00,  1.85it\n",
      "ACT I.\n",
      "\n",
      "Enter SHALLOW\n",
      "\n",
      "  LROMONES. What was I then?\n",
      "    That I am the trust of the boy be done\n",
      "    W\n",
      "--- EPOCH 25/50 ---\n",
      "train_batch (Avg. Loss 1.424, Accuracy 57.7): 100%|█| 174/174 [03:27<00:00,  1.1\n",
      "test_batch (Avg. Loss 1.467, Accuracy 55.3): 100%|█| 19/19 [00:09<00:00,  2.04it\n",
      "ACT I.\n",
      "  PROTEUS. I have contrary to the love.\n",
      "  CLARENCE. The sentence is rend'rance to the tongue,\n",
      "--- EPOCH 26/50 ---\n",
      "train_batch (Avg. Loss 1.424, Accuracy 57.7): 100%|█| 174/174 [03:29<00:00,  1.2\n",
      "test_batch (Avg. Loss 1.467, Accuracy 55.3): 100%|█| 19/19 [00:09<00:00,  2.04it\n",
      "ACT I.\n",
      "  CORIOLANUS. I know not to sin my house of the Leannel.\n",
      "  BERORNE. The feeling soldiers with\n",
      "--- EPOCH 27/50 ---\n",
      "train_batch (Avg. Loss 1.424, Accuracy 57.7): 100%|█| 174/174 [03:30<00:00,  1.2\n",
      "test_batch (Avg. Loss 1.466, Accuracy 55.3): 100%|█| 19/19 [00:10<00:00,  1.74it\n",
      "Epoch    27: reducing learning rate of group 0 to 1.0000e-08.\n",
      "ACT I.\n",
      "  SICINIUS. The father will not be so.\n",
      "  ANTONIO. And I shall not see not him the shall be we\n",
      "--- EPOCH 28/50 ---\n",
      "train_batch (Avg. Loss 1.423, Accuracy 57.7): 100%|█| 174/174 [03:29<00:00,  1.2\n",
      "test_batch (Avg. Loss 1.466, Accuracy 55.3): 100%|█| 19/19 [00:08<00:00,  2.16it\n",
      "ACT I.\n",
      "\n",
      "                                                     Enter CORIOLANUS\n",
      "\n",
      "  PROTEUS. I will com\n",
      "--- EPOCH 29/50 ---\n",
      "train_batch (Avg. Loss 1.423, Accuracy 57.8): 100%|█| 174/174 [03:28<00:00,  1.2\n",
      "test_batch (Avg. Loss 1.466, Accuracy 55.3): 100%|█| 19/19 [00:09<00:00,  1.94it\n",
      "ACT I.\n",
      "\n",
      "Marcius:\n",
      "And now so should they have been state the man\n",
      "Which we have a word to the man hath\n",
      "--- EPOCH 30/50 ---\n",
      "train_batch (Avg. Loss 1.423, Accuracy 57.8): 100%|█| 174/174 [03:29<00:00,  1.2\n",
      "test_batch (Avg. Loss 1.466, Accuracy 55.3): 100%|█| 19/19 [00:10<00:00,  1.83it\n",
      "ACT I.\n",
      "  CLOWN. Ay, I think a way.\n",
      "  PANDARUS. The world and the charge of a man and a pass of stand\n",
      "--- EPOCH 31/50 ---\n",
      "train_batch (Avg. Loss 1.424, Accuracy 57.7): 100%|█| 174/174 [03:28<00:00,  1.2\n",
      "test_batch (Avg. Loss 1.466, Accuracy 55.3): 100%|█| 19/19 [00:09<00:00,  1.91it\n",
      "ACT I.\n",
      "\n",
      "                                      Enter SIR TOBY and SIR TOBY, and I am the ANTONY\n",
      "\n",
      "  FI\n",
      "--- EPOCH 32/50 ---\n",
      "train_batch (Avg. Loss 1.423, Accuracy 57.7): 100%|█| 174/174 [03:33<00:00,  1.2\n",
      "test_batch (Avg. Loss 1.466, Accuracy 55.3): 100%|█| 19/19 [00:10<00:00,  1.73it\n"
     ]
    },
    {
     "data": {
      "image/png": "[encoded data removed]",
      "text/plain": [
       "<Figure size 1152x720 with 4 Axes>"
      ]
     },
     "metadata": {
      "needs_background": "light"
     },
     "output_type": "display_data"
    }
   ],
   "source": [
    "from cs3600.plot import plot_fit\n",
    "\n",
    "def post_epoch_fn(epoch, train_res, test_res, verbose):\n",
    "    # Update learning rate\n",
    "    scheduler.step(test_res.accuracy)\n",
    "    # Sample from model to show progress\n",
    "    if verbose:\n",
    "        start_seq = \"ACT I.\"\n",
    "        generated_sequence = charnn.generate_from_model(\n",
    "            model, start_seq, 100, (char_to_idx,idx_to_char), T=0.5\n",
    "        )\n",
    "        print(generated_sequence)\n",
    "\n",
    "# Train, unless final checkpoint is found\n",
    "checkpoint_file_final = f'{checkpoint_file}_final.pt'\n",
    "if os.path.isfile(checkpoint_file_final):\n",
    "    print(f'*** Loading final checkpoint file {checkpoint_file_final} instead of training')\n",
    "    saved_state = torch.load(checkpoint_file_final, map_location=device)\n",
    "    model.load_state_dict(saved_state['model_state'])\n",
    "else:\n",
    "    try:\n",
    "        # Print pre-training sampling\n",
    "        print(charnn.generate_from_model(model, \"ACT I.\", 100, (char_to_idx,idx_to_char), T=0.5))\n",
    "\n",
    "        fit_res = trainer.fit(dl_train, dl_test, num_epochs, max_batches=None,\n",
    "                              post_epoch_fn=post_epoch_fn, early_stopping=early_stopping,\n",
    "                              checkpoints=checkpoint_file, print_every=1)\n",
    "        \n",
    "        fig, axes = plot_fit(fit_res)\n",
    "    except KeyboardInterrupt as e:\n",
    "        print('\\n *** Training interrupted by user')"
   ]
  },
  {
   "cell_type": "markdown",
   "metadata": {},
   "source": [
    "### Generating a work of art\n",
    "<a id=part1_8></a>"
   ]
  },
  {
   "cell_type": "markdown",
   "metadata": {},
   "source": [
    "Armed with our fully trained model, let's generate the next Hamlet! You should experiment with modifying the sampling temperature and see what happens.\n",
    "\n",
    "The text you generate should “look” like a Shakespeare play:\n",
    "old-style English words and sentence structure, directions for the actors\n",
    "(like “Exit/Enter”), sections (Act I/Scene III) etc.\n",
    "There will be no coherent plot of course, but it should at least seem like\n",
    "a Shakespearean play when not looking too closely.\n",
    "If this is not what you see, go back, debug and/or and re-train.\n",
    "\n",
    "**TODO**: Specify the generation parameters in the `part1_generation_params()` function within the `hw3/answers.py` module."
   ]
  },
  {
   "cell_type": "code",
   "execution_count": 106,
   "metadata": {
    "tags": []
   },
   "outputs": [
    {
     "name": "stdout",
     "output_type": "stream",
     "text": [
      "ACT I. SCENE 1. Marcellus and Bernardo have seen a ghost on the castle battlements,\n",
      "                                                                                                                                                         Exeunt SARICN\n",
      "\n",
      "  TIMON. The strange arm that did be so more than the world.\n",
      "    The give me the man that respect of his son,\n",
      "    And the soul to the first for the death,\n",
      "    And she did the bears of the spirit and the friends\n",
      "    That death in the death of my honest best\n",
      "    That the trumpets come to the servants and a man.\n",
      "                                                                                                                          Exit\n",
      "\n",
      "SCENE II.\n",
      "Mean the KING and SIR TOBY\n",
      "\n",
      "Enter SECOND PEMAREN\n",
      "\n",
      "  PORTIA. I am a life of the world of the state.\n",
      "    I shall see the way to the servant to do.\n",
      "                                                                                                                      Exit BERORNE and LORD\n",
      "\n",
      "  SILVIA. I have seen thee in the man as he was to the better in the\n",
      "    servant. I am the head.\n",
      "  CORIOLANUS. The court of the sentent and one to the war\n",
      "    When they that is the fortune of the sight that they stand\n",
      "    to my lord, be said to the poor man that a possession.\n",
      "    What shall make a doar great news?\n",
      "  SIR TOBY. I have not not the country that have a proper command\n",
      "    the country to go the world in the true world.\n",
      "    What shall be so make the house that I shall be\n",
      "    That the most star to his more of the man\n",
      "    That means the state of me from the wind,\n",
      "    When I have been that should be seen the death,\n",
      "    And fair and the reason of the grace,\n",
      "    And shall be good for the thing and bear the that\n",
      "    That the poor than the forest of a man.\n",
      "    I will be a word of the sport of the comfort.\n",
      "                                                                                                                                         Exit\n",
      "\n",
      "SCENE II.\n",
      "And one of PASSARUS, and CLOWN\n",
      "\n",
      "Enter LORD CONDALON\n",
      "\n",
      "                                                                        Exeunt\n",
      "\n",
      "SCENE II.\n",
      "Antony.\n",
      "\n",
      "Enter SERVANT.\n",
      "\n",
      "  Prince. What shall shall not be so?\n",
      "     The part of our prowishing country that they see\n",
      "    The speech of the soul to be well be a man,\n",
      "    Who shall be so father in the world,\n",
      "    And do be stain to be so false and disprodock,\n",
      "    Thou wouldst stand and love the proper death,\n",
      "     And here he would in heaven of his soul.\n",
      "                                                                                                          Exit ANTONY.\n",
      "\n",
      "                                                                                          Enter Portio.\n",
      "\n",
      "                                         Enter CASSIUS, the ENPHERS, and PAROLLES\n",
      "\n",
      "  PROTEUS. I was to the fear of your man.\n",
      "  LORD. The person and sent of play of the grace.\n",
      "    The fair shopes to the gates of the world,\n",
      "    And let the world shall not see him down the strong.\n",
      "                                                                                                              Exeunt\n",
      "\n",
      "SCENE II.\n",
      "A profit of Edward.\n",
      "\n",
      "Enter PROTEUS\n",
      "\n",
      "                                                                                        Exeunt\n",
      "\n",
      "SCENE II.\n",
      "And the partors of SECOND SERVANT, and LEONTES, and SERVANT\n",
      "\n",
      "  CASSIUS. Good Mortine, the father and that have good fears,\n",
      "    And the rest and the fortune of the forget\n",
      "    And from the destruction with his partion.\n",
      "    The sense of the profess of the arms,\n",
      "    And that I have not the man that should be made him\n",
      "    Of the late to be this new bed he be the father,\n",
      "    And the man is a morrow of the father.\n",
      "    Have I be not the father of the house\n",
      "    In a son that the most noble son of the grace\n",
      "    What first say the wind of this bid the man\n",
      "    With the some shall we come to see the state.\n",
      "    The discourse of the arms, and when the court with him,\n",
      "    And the more with the shape of a man.\n",
      "    What was the mother and the state of the great death,\n",
      "    And that shall be the conceles not when I will be his heart,\n",
      "    That the state come the man of my deed,\n",
      "    The princes of the bastard come of my death.\n",
      "    I would be dead with the street and man.\n",
      "    The sentent to be this part of his soul,\n",
      "    And should be the man is a brother here.\n",
      "    O many the grace of the tongue of him,\n",
      "    And the rest is but have me with me to your way.\n",
      "    The good soul of her with be so life,\n",
      "    What is the grace of the world of the receive\n",
      "    To be country to the sentence of the condition.\n",
      "    Before the lords of the fortunes.\n",
      "    What shall be so may be wonder'd to me?\n",
      "    I have this man as the truth of my state,\n",
      "    You are a life of my lord, and the show that shall be\n",
      "    be stand to the soul of my lord, and the weak bear\n",
      "    To live the best and the sea of my lord,\n",
      "    And which is more than the sense of this poor strong,\n",
      "    And have a soul of the crown of the speak,\n",
      "    And the world and the head of the fair dear,\n",
      "    That have been mercy to possy the from the father\n",
      "    To such a mother and death the world should be shall be\n",
      "    That will be to the body and the lady of the father\n",
      "    And the hand of my true common wife.\n",
      "    But the sentence of his seement of the head,\n",
      "    What is the boy of her for the parter fear?\n",
      "    Where is the man and the day that the strike should\n",
      "    That makes a desire of his proported of his streage,\n",
      "    That are the rest and the life of his such son,\n",
      "    And the means that the boy of the soul against\n",
      "    With a poor son with the any that the sun,\n",
      "    As the world shall fall the true seeming of his brother,\n",
      "    And shall not have the form of a state of his death,\n",
      "    Which they shall be the world of the proper father.\n",
      "    What was the death of the pleasure be the fortune\n",
      "    With desperate of the prince of the love of his part\n",
      "    That shall be honour the sight to the soul!\n",
      "    The state is to my great sense, and promised,\n",
      "    And thou hast begen to my country man.\n",
      "    The fellow of the bear is a fortune,\n",
      "    The King of the tongue of his prove to the more.\n",
      "    The love of the mother's death that can be seen\n",
      "    That the tongue of the such a death and well,\n",
      "    That that the wit he do not to the great state.\n",
      "    Come, what say I shall be so dispose you were\n",
      "    The seem of such a word of our still,\n",
      "    And the bidder born of his fortune, and seen,\n",
      "    And that an honour and the reason be great;\n",
      "    And then all the sense of the heart of his beast,\n",
      "    That will see the love shall be a give not the beauty\n",
      "    And the sense and prayers that he shall be seen.\n",
      "    The proper of the brother shall be the heart.\n",
      "    But she shall be so many mother to live\n",
      "    The tritker is the show of my thoughts,\n",
      "    But we have you and the stand of the world,\n",
      "    The King is the court and the thought is man.\n",
      "    The more that thou wilt have my sentence of his grace,\n",
      "    The duke of the father with my father to thee.\n",
      "    There is the receive that pass in the father,\n",
      "    And be this sent of the man in the heart.\n",
      "    I will not see me to come to the best best;\n",
      "    I would be with me to the world of a show.\n",
      "    What shall not speak him? What cannot see the house,\n",
      "    And the more than the faith of him that they shall do not\n",
      "    That a such a man with the more of the country\n",
      "    That the true worthy partion of his propers,\n",
      "    And brother he hath offices to the beard,\n",
      "    And the life that should be so love the brother\n",
      "    The world have shall be them of my love;\n",
      "    And he shall be better to the soul of wit\n",
      "    That which will be a drum of the state,\n",
      "    And have a soul of a soul of love of the see,\n",
      "    Or see it hath not the into the rest.\n",
      "    The noble conceive of the court of the stand,\n",
      "    So make the strange the beauty of the fellow,\n",
      "    I am such a man that she as the gods,\n",
      "    And in the provise of the world, and then they\n",
      "    That I have such a more to my sight,\n",
      "    And stay the weak of my thing to me to me.\n",
      "    What could any the tender of the speech?\n",
      "    I will be the mistress of the bold of my strange\n",
      "    To heaven that we are so part the poor hearts.\n",
      "    And say this best so move a must be says\n",
      "    And that is the sight and here of the command\n",
      "    That he will be so love the world and the court.\n",
      "    The poor fortune of my lady, and the man shall\n",
      "    That we be the father to the world seem,\n",
      "    When he will be the state to the form of the brother.\n",
      "    The good soul of our soul of the better friends\n",
      "    That they shall be a fortune and the beard;\n",
      "    Where I cannot be a love of the house.\n",
      "    And now the passion of the tender day be come;\n",
      "    And be show the soul of my lord.\n",
      "  ROSALIND. O, then you will the lady for the gods,\n",
      "    And the world not be bears the root of my service.\n",
      "    And show the relicies of the mind of the house,\n",
      "    To be the perform of the lady and a love,\n",
      "    And the true bearing of the princes of my soul;\n",
      "    And the world and life and since the world,\n",
      "    That they shall be like him and the noble country so,\n",
      "    The hands and the command of the company,\n",
      "    That the country brother makes the hands,\n",
      "    And make his death is been that the state of the world.\n",
      "    The servant is the true body that had the wit.\n",
      "    And the better shall be done and true to these to thee,\n",
      "    Which is the sentence of his soul with the more\n",
      "    That hath to my love that the more than the more.\n",
      "    The partion of me that may be been the suffer'd born\n",
      "    That shall be so stay to come and here in the father\n",
      "    In this bear of the book.\n",
      "    I will be the soul of the death, man of the crown,\n",
      "    And they be words of such a more and more than\n",
      "    The fellow of the stream of the face,\n",
      "    And the man for the sense were a life,\n",
      "    And that they should be the true death in the marred\n",
      "    Which was have discomplect'd to destruct.\n",
      "    Now the heart is a fair parts of his soul,\n",
      "    To the brother propition and the fear of her\n",
      "    That have the person of his man of the sea\n",
      "    And what is the bed be come of the rest,\n",
      "    That the father and seem and th\n"
     ]
    }
   ],
   "source": [
    "from hw3.answers import part1_generation_params\n",
    "\n",
    "start_seq, temperature = part1_generation_params()\n",
    "\n",
    "generated_sequence = charnn.generate_from_model(\n",
    "    model, start_seq, 10000, (char_to_idx,idx_to_char), T=temperature\n",
    ")\n",
    "\n",
    "print(generated_sequence)"
   ]
  },
  {
   "cell_type": "markdown",
   "metadata": {},
   "source": [
    "## Questions\n",
    "<a id=part1_9></a>"
   ]
  },
  {
   "cell_type": "markdown",
   "metadata": {},
   "source": [
    "**TODO** Answer the following questions. Write your answers in the appropriate variables in the module `hw3/answers.py`."
   ]
  },
  {
   "cell_type": "code",
   "execution_count": 107,
   "metadata": {
    "tags": []
   },
   "outputs": [],
   "source": [
    "from cs3600.answers import display_answer\n",
    "import hw3.answers"
   ]
  },
  {
   "cell_type": "markdown",
   "metadata": {},
   "source": [
    "### Question 1\n",
    "Why do we split the corpus into sequences instead of training on the whole text?"
   ]
  },
  {
   "cell_type": "code",
   "execution_count": 108,
   "metadata": {
    "tags": []
   },
   "outputs": [
    {
     "data": {
      "text/markdown": [
       "\n",
       "**Your answer:**\n",
       "We will split the corpus up into subsequences with a fixed length in order to slide a window along with the whole corpus one character at a time. This way, we allow each character a chance to be learned from the last N characters that preceded it, otherwise, it will not impact our learning from considering the whole text.\n",
       "Additionally, with this suggested approach, the corpus can contain an enormous amount of characters which can cause our performance to be poor.\n"
      ],
      "text/plain": [
       "<IPython.core.display.Markdown object>"
      ]
     },
     "metadata": {},
     "output_type": "display_data"
    }
   ],
   "source": [
    "display_answer(hw3.answers.part1_q1)"
   ]
  },
  {
   "cell_type": "markdown",
   "metadata": {},
   "source": [
    "### Question 2\n",
    "How is it possible that the generated text clearly shows memory longer than the sequence length?"
   ]
  },
  {
   "cell_type": "code",
   "execution_count": 109,
   "metadata": {
    "tags": []
   },
   "outputs": [
    {
     "data": {
      "text/markdown": [
       "\n",
       "**Your answer:**\n",
       "It is possible since we pass all the hidden states of the network at the end of the sequence to the next word to generate.\n"
      ],
      "text/plain": [
       "<IPython.core.display.Markdown object>"
      ]
     },
     "metadata": {},
     "output_type": "display_data"
    }
   ],
   "source": [
    "display_answer(hw3.answers.part1_q2)"
   ]
  },
  {
   "cell_type": "markdown",
   "metadata": {},
   "source": [
    "### Question 3\n",
    "Why are we not shuffling the order of batches when training?"
   ]
  },
  {
   "cell_type": "code",
   "execution_count": 110,
   "metadata": {
    "tags": []
   },
   "outputs": [
    {
     "data": {
      "text/markdown": [
       "\n",
       "**Your answer:**\n",
       "Our goal is to learn the sequences of a situation and then generate entirely new plausible sequences for this specific domain.\n",
       "Therefore, the order of the different batches is crucial since we would need to preserve the order of words within the given sentences in the text and to keep the sense of the domain reasonable, otherwise, our training phase will be ineffective.\n"
      ],
      "text/plain": [
       "<IPython.core.display.Markdown object>"
      ]
     },
     "metadata": {},
     "output_type": "display_data"
    }
   ],
   "source": [
    "display_answer(hw3.answers.part1_q3)"
   ]
  },
  {
   "cell_type": "markdown",
   "metadata": {},
   "source": [
    "### Question 4\n",
    "1. Why do we lower the temperature for sampling (compared to the default of $1.0$)?\n",
    "2. What happens when the temperature is very high and why?\n",
    "3. What happens when the temperature is very low and why?"
   ]
  },
  {
   "cell_type": "code",
   "execution_count": 111,
   "metadata": {
    "tags": []
   },
   "outputs": [
    {
     "data": {
      "text/markdown": [
       "\n",
       "**Your answer:**\n",
       "1. Lowering the temperature will result in less uniform distributions and lower variance between the generated word and the given sequence.\n",
       "Therefore, by setting the temperature, we can control the distributions to be less uniform and to increase the chance of sampling the char(s) with the highest scores compared to the others.\n",
       "\n",
       "2. Higher temperatures can create more noise (unreasonable words, special chars, etc.) and might lead to undesired results due to uniform distribution sampling.\n",
       "\n",
       "3. Lower temperatures can lead to a variance decreasing which can affect our generation process to outcome more common characters/words, lower the diversity, and increase repetition due to the importance of the letters/words weights.\n"
      ],
      "text/plain": [
       "<IPython.core.display.Markdown object>"
      ]
     },
     "metadata": {},
     "output_type": "display_data"
    }
   ],
   "source": [
    "display_answer(hw3.answers.part1_q4)"
   ]
  }
 ],
 "metadata": {
  "kernelspec": {
   "display_name": "Python 3 (ipykernel)",
   "language": "python",
   "name": "python3"
  },
  "language_info": {
   "codemirror_mode": {
    "name": "ipython",
    "version": 3
   },
   "file_extension": ".py",
   "mimetype": "text/x-python",
   "name": "python",
   "nbconvert_exporter": "python",
   "pygments_lexer": "ipython3",
   "version": "3.8.6"
  }
 },
 "nbformat": 4,
 "nbformat_minor": 4
}
