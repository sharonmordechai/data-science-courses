{
 "cells": [
  {
   "cell_type": "markdown",
   "metadata": {},
   "source": [
    "# CS3600: Deep Learning\n",
    "# Homework Assignment 3\n",
    "\n",
    "Raichman Univercity"
   ]
  },
  {
   "cell_type": "markdown",
   "metadata": {},
   "source": [
    "Submitted by:\n",
    "\n",
    "| #       |              Name |             Id |                           email |\n",
    "|---------|-------------------|----------------|-------------------------------- |\n",
    "|Student 1|  Sharon Mordechai |    304866551   | sharon.mordechai@post.idc.ac.il |\n",
    "|Student 2|  [your name here] | [your id here] |        [your email here]        |"
   ]
  },
  {
   "cell_type": "markdown",
   "metadata": {},
   "source": [
    "## Introduction\n",
    "\n",
    "In this assignment we'll learn to generate text with a deep multilayer RNN network based on GRU cells.\n",
    "Then we'll focus our attention on image generation and implement two different generative models:\n",
    "A variational autoencoder and a generative adversarial network."
   ]
  },
  {
   "cell_type": "markdown",
   "metadata": {},
   "source": [
    "## General Guidelines\n",
    "\n",
    "- This assignment requires running on GPU-enabled hardware. We highly recommand you to run all debuging in your enviroment and the training itself in google colab. Use the `checkpoint` to download the trained model back to your computer for inference and submission.\n",
    "- The text and code cells in these notebooks are intended to guide you through the\n",
    "  assignment and help you verify your solutions.\n",
    "  The notebooks **do not need to be edited** at all (unless you wish to play around).\n",
    "  The only exception is to fill your name(s) in the above cell before submission.\n",
    "  Please do not remove sections or change the order of any cells, **your grade will decresse drusticly if you do**.\n",
    "- All your code (and even answers to questions) should be written in the files\n",
    "  within the python package corresponding the assignment number (`hw1`, `hw2`, etc).\n",
    "  You can of course use any editor or IDE to work on these files.\n",
    "- This HW is shorter then what you had so far, please make an effort to finish in time."
   ]
  },
  {
   "cell_type": "markdown",
   "metadata": {},
   "source": [
    "## Contents\n",
    "- [Part1: Sequence Models](#part1)\n",
    "    - [Text generation with a char-level RNN](#part1_1)\n",
    "    - [Obtaining the corpus](#part1_2)\n",
    "    - [Data Preprocessing](#part1_3)\n",
    "    - [Dataset Creation](#part1_4)\n",
    "    - [Model Implementation](#part1_5)\n",
    "    - [Generating text by sampling](#part1_6)\n",
    "    - [Training](#part1_7)\n",
    "    - [Generating a work of art](#part1_8)\n",
    "    - [Questions](#part1_9)"
   ]
  }
 ],
 "metadata": {
  "kernelspec": {
   "display_name": "Python 3 (ipykernel)",
   "language": "python",
   "name": "python3"
  },
  "language_info": {
   "codemirror_mode": {
    "name": "ipython",
    "version": 3
   },
   "file_extension": ".py",
   "mimetype": "text/x-python",
   "name": "python",
   "nbconvert_exporter": "python",
   "pygments_lexer": "ipython3",
   "version": "3.8.6"
  }
 },
 "nbformat": 4,
 "nbformat_minor": 4
}
