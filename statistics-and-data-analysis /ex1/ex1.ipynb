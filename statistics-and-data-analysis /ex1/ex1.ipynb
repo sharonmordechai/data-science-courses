{
 "cells": [
  {
   "cell_type": "markdown",
   "metadata": {},
   "source": [
    "## Read the following instructions carefully:\n",
    "\n",
    "1. This jupyter notebook contains all the step by step instructions needed for this exercise.\n",
    "1. You are free to add cells.\n",
    "1. Write your functions and your answers in this jupyter notebook only.\n",
    "1. Answers to theoretical questions should be written in **markdown cells (with $\\LaTeX$ support)**.\n",
    "1. Submit this jupyter notebook only using your ID as a filename. Not to use ZIP or RAR. For example, your Moodle submission file name should look like this (two id numbers): `123456789_987654321.ipynb`."
   ]
  },
  {
   "cell_type": "markdown",
   "metadata": {},
   "source": [
    "### Question 1 - Defective products"
   ]
  },
  {
   "cell_type": "markdown",
   "metadata": {},
   "source": [
    "In a manufacturing pipeline products are 3% defective. We are interested in examining a defective product to see what goes wrong on the belt. We need to ask the facility manager to send us a set of independent samples for examination."
   ]
  },
  {
   "cell_type": "markdown",
   "metadata": {},
   "source": [
    "#### 1.A\n",
    "\n",
    "How many independent samples should we ask for in order to have a 85% probability of having at least one defective product in the batch sent? You should write a function."
   ]
  },
  {
   "cell_type": "code",
   "execution_count": 4,
   "metadata": {},
   "outputs": [
    {
     "name": "stdout",
     "output_type": "stream",
     "text": [
      "63\n"
     ]
    }
   ],
   "source": [
    "def get_independent_samples_by_prob(defective_prob=0.03, desired_defective_prob=0.85):\n",
    "    # the probability for defective product is 0.03\n",
    "    # the probability for having at least 1 defective product from n samples is 0.85\n",
    "    #\n",
    "    # X ~ Bin(n,0.03), n = ?\n",
    "    # P(Y=k) = n choose k * p^k * (1-p)^(n-k)\n",
    "    #\n",
    "    # P(Y>=1) = 0.85 => 1 - P(Y<1) = 1 => 1 - P(Y = 0) => 1 - [n choose 0 * 0.03^0 * (1-0.03)^(n-0)]\n",
    "    # => 1 - [(1-0.03)^n] = 0.85 => (1-0.03)^n = 1 - 0.85\n",
    "    #\n",
    "    # therefore, in order to find the n samples:\n",
    "    # we need to find the first n when the left equation is smaller then the right one\n",
    "    # (1-0.03)^n < 1-0.85\n",
    "    #\n",
    "    # another option to find the n: we can use the log operation (and to ceil the result) => \n",
    "    # log_(1 - defective_prob) of (1 - defective_prob)^n = log_(1 - defective_prob) of the desired_defective_prob\n",
    "    \n",
    "    find = False\n",
    "    n = 1\n",
    "    while not find:\n",
    "        if (1 - defective_prob) ** n < (1 - desired_defective_prob):\n",
    "            find = True\n",
    "        else:\n",
    "            n += 1\n",
    "    return n\n",
    "\n",
    "\n",
    "print(get_independent_samples_by_prob())"
   ]
  },
  {
   "cell_type": "markdown",
   "metadata": {},
   "source": [
    "#### 1.B\n",
    "Answer this part again with the following changes: products are 4% defective and we want a 95% probability of at least one defective product in the batch."
   ]
  },
  {
   "cell_type": "code",
   "execution_count": 5,
   "metadata": {},
   "outputs": [
    {
     "name": "stdout",
     "output_type": "stream",
     "text": [
      "74\n"
     ]
    }
   ],
   "source": [
    "print(get_independent_samples_by_prob(defective_prob=0.04, desired_defective_prob=0.95))"
   ]
  },
  {
   "cell_type": "markdown",
   "metadata": {},
   "source": [
    "#### 1.C \n",
    "\n",
    "Consider the following cases and calculate how many independent samples are required: \n",
    "\n",
    "1. Products are 10% defective and we want a 90% probability of at least 5 defective products in the batch.\n",
    "1. Products are 30% defective and we want a 90% probability of at least 15 defective products in the batch.\n",
    "\n",
    "Explain the difference between the two results. You should use mathematical reasoning based on the properties of distributions you saw in class and visualizations in your answer."
   ]
  },
  {
   "cell_type": "code",
   "execution_count": 6,
   "metadata": {},
   "outputs": [
    {
     "name": "stdout",
     "output_type": "stream",
     "text": [
      "1.78\n",
      "2.64\n"
     ]
    }
   ],
   "source": [
    "import scipy.special\n",
    "\n",
    "def get_independent_samples_by_prob_at_least(defective_prob=0.1, desired_defective_prob=0.9, defective_at_least=5):\n",
    "    # the probability for defective product is 0.1\n",
    "    # the probability for having at least 5 defective products from n samples is 0.9\n",
    "    #\n",
    "    # X ~ Bin(n,0.1), n = ?\n",
    "    # P(Y=k) = n choose k * p^k * (1-p)^(n-k)\n",
    "    #\n",
    "    # P(Y>=5) = 0.9 => 1-[P(0) + P(1) + P(2) + P(3) + P(4)] = 0.9\n",
    "    # therefore, in order to find the n samples:\n",
    "    # we need to find the first n when the left equation is greater then the right one\n",
    "    # 1 - [P(0) + P(1) + P(2) + P(3) + P(4)] > 0.9\n",
    "    #\n",
    "    # using scipy.special.binom(n, k) to perform: n choose k\n",
    "\n",
    "    n = defective_at_least  # we need to start from this number in order to perform the binomial coefficient\n",
    "    found = False\n",
    "\n",
    "    while not found:\n",
    "        total_prob = 0\n",
    "        for k in range(defective_at_least):\n",
    "            total_prob += scipy.special.binom(n, k) * defective_prob**k * (1 - defective_prob)**(n-k)\n",
    "        if 1 - total_prob > desired_defective_prob:\n",
    "            found = True\n",
    "        else:\n",
    "            n += 1\n",
    "    return n\n",
    "\n",
    "\n",
    "print(\"1.\" + str(get_independent_samples_by_prob_at_least(defective_prob=0.1, desired_defective_prob=0.9, defective_at_least=5)))\n",
    "print(\"2.\" + str(get_independent_samples_by_prob_at_least(defective_prob=0.3, desired_defective_prob=0.9, defective_at_least=15)))"
   ]
  },
  {
   "cell_type": "code",
   "execution_count": 4,
   "metadata": {},
   "outputs": [
    {
     "name": "stdout",
     "output_type": "stream",
     "text": [
      "n=78:\n",
      "Mean: 7.800\n",
      "Variance: 7.020\n",
      "\n",
      "n=64:\n",
      "Mean: 19.200\n",
      "Variance: 13.440\n"
     ]
    },
    {
     "data": {
      "text/plain": [
       "Text(0.5, 1.0, 'n=64')"
      ]
     },
     "execution_count": 4,
     "metadata": {},
     "output_type": "execute_result"
    },
    {
     "data": {
      "image/png": "[encoded data removed]",
      "text/plain": [
       "<Figure size 432x432 with 1 Axes>"
      ]
     },
     "metadata": {
      "needs_background": "light"
     },
     "output_type": "display_data"
    },
    {
     "data": {
      "image/png": "[encoded data removed]",
      "text/plain": [
       "<Figure size 432x432 with 1 Axes>"
      ]
     },
     "metadata": {
      "needs_background": "light"
     },
     "output_type": "display_data"
    }
   ],
   "source": [
    "# Explanation:\n",
    "# As we can see in the visualization below, the difference between \n",
    "# the two results is affected by the statistics measurements (in our example: mean and variance).\n",
    "# In the second sample (n=64), the variance and the mean are higher, \n",
    "# meaning that numbers in this set are distant from the mean and each other.\n",
    "# \n",
    "# The larger the n the more we get a distribution that is close to a normal distribution \n",
    "# according to the central limit theorem.\n",
    "\n",
    "from scipy import stats\n",
    "import pandas as pd\n",
    "import matplotlib.pyplot as plt\n",
    "\n",
    "n = 78\n",
    "p = 0.1\n",
    "loc = n\n",
    "\n",
    "mean, var = stats.binom.stats(n, p)\n",
    "print('n=78:')\n",
    "print('Mean: {0:.3f}'.format(mean))\n",
    "print('Variance: {0:.3f}\\n'.format(var))\n",
    "\n",
    "sample1 = stats.binom.rvs(n, p, loc=loc, size=1000)\n",
    "pd.DataFrame(sample1).hist(bins=15, figsize=(6,6), edgecolor=\"k\", linewidth=1)\n",
    "plt.title('n=78')\n",
    "\n",
    "n = 64\n",
    "p = 0.3\n",
    "loc = n\n",
    "\n",
    "mean, var = stats.binom.stats(n, p)\n",
    "print('n=64:')\n",
    "print('Mean: {0:.3f}'.format(mean))\n",
    "print('Variance: {0:.3f}'.format(var))\n",
    "\n",
    "sample2 = stats.nbinom.rvs(n, p, loc=loc, size=1000)\n",
    "pd.DataFrame(sample2).hist(bins=15, figsize=(6,6), edgecolor=\"k\", linewidth=1)\n",
    "plt.title('n=64')\n"
   ]
  },
  {
   "cell_type": "markdown",
   "metadata": {},
   "source": [
    "### Question 2 - Rent distributions in Randomistan"
   ]
  },
  {
   "cell_type": "markdown",
   "metadata": {},
   "source": [
    "The state of Randomistan conducted a survey to study the distribution of rent paid in two neighboring towns, Stochastic Heights and Random Grove, to be denoted SH and RG.<br> \n",
    "\n",
    "Here are some findings of the survey:\n",
    "* The population of SH and RG is 16,000 and 22,000 respectively. <br>\n",
    "* The mean rent in SH and RG is 6300RCU and 4200RCU respectively.\n",
    "* The median rent is 4600RCU in both towns.\n",
    "* The IQR of the rent is smaller in SH than in RG.\n",
    "\n",
    "All data generated in this question needs to be consistent with these findings."
   ]
  },
  {
   "cell_type": "markdown",
   "metadata": {},
   "source": [
    "#### 2.A\n",
    "Draw histograms that describe 2 different scenarii of possible distributions of rent in the two towns.\u000b",
    "Your histograms should:<br>\n",
    "* Use bins of 100RCU each.\n",
    "* Have at least 10 non zero bins."
   ]
  },
  {
   "cell_type": "code",
   "execution_count": 7,
   "metadata": {},
   "outputs": [
    {
     "name": "stdout",
     "output_type": "stream",
     "text": [
      "*** Scenario 1 ***\n",
      "SH Population: 16000\n",
      "SH Mean: 6300.0\n",
      "SH Median: 4600.0\n",
      "SH IQR: 2900.0\n",
      "\n",
      "RG Population: 22000\n",
      "RG Mean: 4200.0\n",
      "RG Median: 4600.0\n",
      "RG IQR: 5200.0\n"
     ]
    },
    {
     "data": {
      "image/png": "[encoded data removed]",
      "text/plain": [
       "<Figure size 648x648 with 1 Axes>"
      ]
     },
     "metadata": {
      "needs_background": "light"
     },
     "output_type": "display_data"
    },
    {
     "data": {
      "image/png": "[encoded data removed]",
      "text/plain": [
       "<Figure size 648x648 with 1 Axes>"
      ]
     },
     "metadata": {
      "needs_background": "light"
     },
     "output_type": "display_data"
    },
    {
     "name": "stdout",
     "output_type": "stream",
     "text": [
      "*** Scenario 2 ***\n",
      "SH Population: 16000\n",
      "SH Mean: 6300.0\n",
      "SH Median: 4600.0\n",
      "SH IQR: 4900.0\n",
      "\n",
      "RG Population: 22000\n",
      "RG Mean: 4200.0\n",
      "RG Median: 4600.0\n",
      "RG IQR: 5050.0\n"
     ]
    },
    {
     "data": {
      "image/png": "[encoded data removed]",
      "text/plain": [
       "<Figure size 648x648 with 1 Axes>"
      ]
     },
     "metadata": {
      "needs_background": "light"
     },
     "output_type": "display_data"
    },
    {
     "data": {
      "image/png": "[encoded data removed]",
      "text/plain": [
       "<Figure size 648x648 with 1 Axes>"
      ]
     },
     "metadata": {
      "needs_background": "light"
     },
     "output_type": "display_data"
    }
   ],
   "source": [
    "import pandas as pd\n",
    "import numpy as np\n",
    "import matplotlib.pyplot as plt\n",
    "\n",
    "\n",
    "def rent_distribution_scenario_1():\n",
    "    # generates an array based on the given inputs: population, mean, median and IQR\n",
    "    # presents at least 10 non-zero bins\n",
    "    # I used 11 values for the median and mean measurements, and multiplied them to get the population size\n",
    "\n",
    "    print('*** Scenario 1 ***')\n",
    "    \n",
    "    sh_population = 16000\n",
    "    sh = np.array([3300, 4350, 4400, 4450, 4500, 4600, 7050, 7150, 7300, 9200, 13000] * int(sh_population / 11))\n",
    "    sh_mean = np.mean(sh)\n",
    "    sh_median = np.median(sh)\n",
    "    sh_iqr = np.percentile(sh, 75) - np.percentile(sh, 25)\n",
    "    print('SH Population: {0}'.format(sh_population))\n",
    "    print('SH Mean: {0}'.format(sh_mean))\n",
    "    print('SH Median: {0}'.format(sh_median))\n",
    "    print('SH IQR: {0}\\n'.format(sh_iqr))\n",
    "\n",
    "    rg_population = 22000\n",
    "    rg = np.array([500, 600, 600, 3700, 3800, 4600, 4900, 5200, 5800, 7100, 9400] * int(rg_population / 11))\n",
    "    rg_mean = np.mean(rg)\n",
    "    rg_median = np.median(rg)\n",
    "    rg_iqr = np.percentile(rg, 75) - np.percentile(rg, 25)\n",
    "    print('RG Population: {0}'.format(rg_population))\n",
    "    print('RG Mean: {0}'.format(rg_mean))\n",
    "    print('RG Median: {0}'.format(rg_median))\n",
    "    print('RG IQR: {0}'.format(rg_iqr))\n",
    "\n",
    "    pd.DataFrame(sh).hist(bins=100, figsize=(9, 9), edgecolor=\"k\", linewidth=1)\n",
    "    plt.title('SH')\n",
    "    plt.show()\n",
    "\n",
    "    pd.DataFrame(rg).hist(bins=100, figsize=(9, 9), edgecolor=\"k\", linewidth=1)\n",
    "    plt.title('RG')\n",
    "    plt.show()\n",
    "\n",
    "\n",
    "def rent_distribution_scenario_2():\n",
    "    # generates an array based on the given inputs: population, mean, median and IQR\n",
    "    # presents at least 10 non-zero bins\n",
    "    # I used 11 values for the median and mean measurements, and multiplied them to get the population size\n",
    "\n",
    "    print('*** Scenario 2 ***')\n",
    "    \n",
    "    sh_population = 16000\n",
    "    sh = np.array([1300, 3300, 3400, 4450, 4550, 4600, 7050, 7150, 8300, 11200, 14000] * int(sh_population / 11))\n",
    "    sh_mean = np.mean(sh)\n",
    "    sh_median = np.median(sh)\n",
    "    sh_iqr = np.percentile(sh, 75) - np.percentile(sh, 25)\n",
    "    print('SH Population: {0}'.format(sh_population))\n",
    "    print('SH Mean: {0}'.format(sh_mean))\n",
    "    print('SH Median: {0}'.format(sh_median))\n",
    "    print('SH IQR: {0}\\n'.format(sh_iqr))\n",
    "\n",
    "    rg_population = 22000\n",
    "    rg = np.array([500, 600, 650, 750, 3800, 4600, 4900, 5200, 5700, 7100, 12400] * int(rg_population / 11))\n",
    "    rg_mean = np.mean(rg)\n",
    "    rg_median = np.median(rg)\n",
    "    rg_iqr = np.percentile(rg, 75) - np.percentile(rg, 25)\n",
    "    print('RG Population: {0}'.format(rg_population))\n",
    "    print('RG Mean: {0}'.format(rg_mean))\n",
    "    print('RG Median: {0}'.format(rg_median))\n",
    "    print('RG IQR: {0}'.format(rg_iqr))\n",
    "\n",
    "    pd.DataFrame(sh).hist(bins=100, figsize=(9, 9), edgecolor=\"k\", linewidth=1)\n",
    "    plt.title('SH')\n",
    "    plt.show()\n",
    "\n",
    "    pd.DataFrame(rg).hist(bins=100, figsize=(9, 9), edgecolor=\"k\", linewidth=1)\n",
    "    plt.title('RG')\n",
    "    plt.show()\n",
    "\n",
    "\n",
    "rent_distribution_scenario_1()\n",
    "rent_distribution_scenario_2()\n",
    " "
   ]
  },
  {
   "cell_type": "markdown",
   "metadata": {},
   "source": [
    "#### 2.B\n",
    "Draw a histogram of a third scenario with the same properties. <br>\n",
    "In addition, in this scenario the rent in SH should have a higher variance than the rent in RG."
   ]
  },
  {
   "cell_type": "code",
   "execution_count": 8,
   "metadata": {},
   "outputs": [
    {
     "name": "stdout",
     "output_type": "stream",
     "text": [
      "*** Scenario 3 ***\n",
      "SH Population: 16000\n",
      "SH Mean: 6300.0\n",
      "SH Median: 4600.0\n",
      "SH IQR: 4900.0\n",
      "SH Variance: 14888181.82\n",
      "\n",
      "RG Population: 22000\n",
      "RG Mean: 4200.0\n",
      "RG Median: 4600.0\n",
      "RG IQR: 4950.0\n",
      "RG Variance: 11785909.09\n"
     ]
    },
    {
     "data": {
      "image/png": "[encoded data removed]",
      "text/plain": [
       "<Figure size 648x648 with 1 Axes>"
      ]
     },
     "metadata": {
      "needs_background": "light"
     },
     "output_type": "display_data"
    },
    {
     "data": {
      "image/png": "[encoded data removed]",
      "text/plain": [
       "<Figure size 648x648 with 1 Axes>"
      ]
     },
     "metadata": {
      "needs_background": "light"
     },
     "output_type": "display_data"
    }
   ],
   "source": [
    "def rent_distribution_scenario_3():\n",
    "    # generates an array based on the given inputs: population, mean, median and IQR\n",
    "    # presents at least 10 non-zero bins\n",
    "    # I used 11 values for the median and mean measurements, and multiplied them to get the population size\n",
    "\n",
    "    print('*** Scenario 3 ***')\n",
    "\n",
    "    sh_population = 16000\n",
    "    sh = np.array([1300, 2300, 3400, 4450, 4550, 4600, 7050, 7150, 8300, 11200, 15000] * int(sh_population / 11))\n",
    "    sh_mean = np.mean(sh)\n",
    "    sh_median = np.median(sh)\n",
    "    sh_iqr = np.percentile(sh, 75) - np.percentile(sh, 25)\n",
    "    sh_var = np.var(sh)\n",
    "    print('SH Population: {0}'.format(sh_population))\n",
    "    print('SH Mean: {0}'.format(sh_mean))\n",
    "    print('SH Median: {0}'.format(sh_median))\n",
    "    print('SH IQR: {0}'.format(sh_iqr))\n",
    "    print('SH Variance: {0:.2f}\\n'.format(sh_var))\n",
    "\n",
    "    rg_population = 22000\n",
    "    rg = np.array([400, 800, 650, 750, 3800, 4600, 4900, 5200, 5700, 7000, 12400] * int(rg_population / 11))\n",
    "    rg_mean = np.mean(rg)\n",
    "    rg_median = np.median(rg)\n",
    "    rg_iqr = np.percentile(rg, 75) - np.percentile(rg, 25)\n",
    "    rg_var = np.var(rg)\n",
    "    print('RG Population: {0}'.format(rg_population))\n",
    "    print('RG Mean: {0}'.format(rg_mean))\n",
    "    print('RG Median: {0}'.format(rg_median))\n",
    "    print('RG IQR: {0}'.format(rg_iqr))\n",
    "    print('RG Variance: {0:.2f}'.format(rg_var))\n",
    "\n",
    "    pd.DataFrame(sh).hist(bins=100, figsize=(9, 9), edgecolor=\"k\", linewidth=1)\n",
    "    plt.title('SH')\n",
    "    plt.show()\n",
    "\n",
    "    pd.DataFrame(rg).hist(bins=100, figsize=(9, 9), edgecolor=\"k\", linewidth=1)\n",
    "    plt.title('RG')\n",
    "    plt.show()\n",
    "\n",
    "\n",
    "rent_distribution_scenario_3()"
   ]
  },
  {
   "cell_type": "markdown",
   "metadata": {},
   "source": [
    "The survey also examined the per household income (PHI) in these two places.<br>\n",
    "\n",
    "It found that:<br>\n",
    "* The mean of PHI in SH is 12500 and in RG is 8500.\n",
    "* The median is 12000 in SH and 8000 in RG.\n",
    "* The covariance of the rent and the PHI was observed to be as in the formula below with $\\alpha=97\\%$ and $\\alpha=89\\%$ in SH and in RG respectively.<br><br>\n",
    "$$Cov(rent, PHI) = \\alpha * \\sqrt{Var(rent)} * \\sqrt{Var(PHI)}$$\n",
    "\n",
    "#### 2.C\n",
    "Produce rent and PHI data for the two cities, that is consistent with these findings. The covariances in your data can deviate by up to 1% from the numbers given $\\alpha$."
   ]
  },
  {
   "cell_type": "code",
   "execution_count": 9,
   "metadata": {},
   "outputs": [
    {
     "name": "stdout",
     "output_type": "stream",
     "text": [
      "*** PHI Rent ***\n",
      "\n",
      "SH Population: 16000\n",
      "SH Mean: 6300.0\n",
      "SH Median: 4600.0\n",
      "SH IQR: 4900.0\n",
      "SH Variance: 14888181.82\n",
      "\n",
      "SH PHI Mean: 12500.0\n",
      "SH PHI Median: 12000.0\n",
      "SH PHI Variance: 54140000.00\n",
      "SH PHI Covariance: 27539223.58\n",
      "\n",
      "SH - Up To 1% Validation: 0.9906985717685154\n",
      "\n",
      "\n",
      "RG Population: 22000\n",
      "RG Mean: 4200.0\n",
      "RG Median: 4600.0\n",
      "RG IQR: 4950.0\n",
      "RG Variance: 11785909.09\n",
      "\n",
      "RG PHI Mean: 8500.0\n",
      "RG PHI Median: 8000.0\n",
      "RG PHI Variance: 15412727.27\n",
      "RG PHI Covariance: 11995305.05\n",
      "\n",
      "RG - Up To 1% Validation: 0.999906338590199\n"
     ]
    }
   ],
   "source": [
    "def phi_rent_distribution():\n",
    "    print('*** PHI Rent ***\\n')\n",
    "\n",
    "    sh_population = 16000\n",
    "    sh = np.array([1300, 2300, 3400, 4450, 4550, 4600, 7050, 7150, 8300, 11200, 15000] * int(sh_population / 11))\n",
    "    sh_mean = np.mean(sh)\n",
    "    sh_median = np.median(sh)\n",
    "    sh_iqr = np.percentile(sh, 75) - np.percentile(sh, 25)\n",
    "    sh_var = np.var(sh)\n",
    "\n",
    "    print('SH Population: {0}'.format(sh_population))\n",
    "    print('SH Mean: {0}'.format(sh_mean))\n",
    "    print('SH Median: {0}'.format(sh_median))\n",
    "    print('SH IQR: {0}'.format(sh_iqr))\n",
    "    print('SH Variance: {0:.2f}\\n'.format(sh_var))\n",
    "\n",
    "    sh_phi = np.array([1200, 3600, 4200, 9000, 12000, 12000, 14500, 15000, 19000, 21000, 26000] * int(sh_population / 11))\n",
    "    sh_phi_mean = np.mean(sh_phi)\n",
    "    sh_phi_median = np.median(sh_phi)\n",
    "    sh_phi_var = np.var(sh_phi)\n",
    "\n",
    "    sh_alpha = 0.97\n",
    "    sh_phi_cov = sh_alpha * np.sqrt(sh_var) * np.sqrt(sh_phi_var)\n",
    "\n",
    "    print('SH PHI Mean: {0}'.format(sh_phi_mean))\n",
    "    print('SH PHI Median: {0}'.format(sh_phi_median))\n",
    "    print('SH PHI Variance: {0:.2f}'.format(sh_phi_var))\n",
    "    print('SH PHI Covariance: {0:.2f}\\n'.format(sh_phi_cov))\n",
    "\n",
    "    # validate the covariances in the data (should be deviated by up to 1% from the numbers given alpha:\n",
    "    #\n",
    "    # calculate the covariance between the sh data (1-dimension) to sh-phi data (1-dimension)\n",
    "    # the results of the numpy.cov function are:\n",
    "    # np.cov(a,b) =\n",
    "    # cov(a,a) cov(a,b)\n",
    "    # cov(b,a) cov(b,b)\n",
    "    # => therefore, we need to choose the index [0][1] for the cov(a,b)\n",
    "    sh_cov = np.cov(sh, sh_phi)[0][1]\n",
    "    print('SH - Up To 1% Validation: {0}\\n\\n'.format(sh_cov / sh_phi_cov))\n",
    "\n",
    "    rg_population = 22000\n",
    "    rg = np.array([400, 800, 650, 750, 3800, 4600, 4900, 5200, 5700, 7000, 12400] * int(rg_population / 11))\n",
    "    rg_mean = np.mean(rg)\n",
    "    rg_median = np.median(rg)\n",
    "    rg_iqr = np.percentile(rg, 75) - np.percentile(rg, 25)\n",
    "    rg_var = np.var(rg)\n",
    "\n",
    "    print('RG Population: {0}'.format(rg_population))\n",
    "    print('RG Mean: {0}'.format(rg_mean))\n",
    "    print('RG Median: {0}'.format(rg_median))\n",
    "    print('RG IQR: {0}'.format(rg_iqr))\n",
    "    print('RG Variance: {0:.2f}\\n'.format(rg_var))\n",
    "\n",
    "    rg_phi = np.array([2000, 3500, 4600, 7000, 7500, 8000, 9000, 12200, 12500, 12700, 14500] * int(rg_population / 11))\n",
    "    rg_phi_mean = np.mean(rg_phi)\n",
    "    rg_phi_median = np.median(rg_phi)\n",
    "    rg_phi_var = np.var(rg_phi)\n",
    "\n",
    "    rg_alpha = 0.89\n",
    "    rg_phi_cov = rg_alpha * np.sqrt(rg_var) * np.sqrt(rg_phi_var)\n",
    "\n",
    "    print('RG PHI Mean: {0}'.format(rg_phi_mean))\n",
    "    print('RG PHI Median: {0}'.format(rg_phi_median))\n",
    "    print('RG PHI Variance: {0:.2f}'.format(rg_phi_var))\n",
    "    print('RG PHI Covariance: {0:.2f}\\n'.format(rg_phi_cov))\n",
    "\n",
    "    # validate the covariances in the data (should be deviated by up to 1% from the numbers given alpha:\n",
    "    rg_cov = np.cov(rg, rg_phi)[0][1]\n",
    "    print('RG - Up To 1% Validation: {0}'.format(rg_cov / rg_phi_cov))\n",
    "\n",
    "\n",
    "phi_rent_distribution()"
   ]
  },
  {
   "cell_type": "markdown",
   "metadata": {},
   "source": [
    "#### 2.D\n",
    "Produce two heatmaps that describe these two bivariate joint distributions. Make sure you carefully consider the selected binning resolution."
   ]
  },
  {
   "cell_type": "code",
   "execution_count": 10,
   "metadata": {},
   "outputs": [
    {
     "data": {
      "image/png": "[encoded data removed]",
      "text/plain": [
       "<Figure size 432x288 with 2 Axes>"
      ]
     },
     "metadata": {
      "needs_background": "light"
     },
     "output_type": "display_data"
    }
   ],
   "source": [
    "def sh_rent_visualization():\n",
    "    # based on the last data\n",
    "    sh_population = 16000\n",
    "    sh = np.array([1300, 2300, 3400, 4450, 4550, 4600, 7050, 7150, 8300, 11200, 15000] * int(sh_population / 11))\n",
    "    sh_phi = np.array([1200, 3600, 4200, 9000, 12000, 12000, 14500, 15000, 19000, 21000, 26000] * int(sh_population / 11))\n",
    "\n",
    "    # Construct 2D histogram from data using the 'plasma' colormap\n",
    "    plt.hist2d(sh, sh_phi, bins=5, cmap='plasma')\n",
    "\n",
    "    # Plot a color bar with label.\n",
    "    cb = plt.colorbar()\n",
    "    cb.set_label('Number of entries')\n",
    "\n",
    "    # Add title and labels to plot.\n",
    "    plt.title('SH Heatmap - 2D normally distributed data points')\n",
    "    plt.xlabel('SH')\n",
    "    plt.ylabel('SH PHI')\n",
    "    plt.show()\n",
    "\n",
    "\n",
    "sh_rent_visualization()"
   ]
  },
  {
   "cell_type": "code",
   "execution_count": 11,
   "metadata": {},
   "outputs": [
    {
     "data": {
      "image/png": "[encoded data removed]",
      "text/plain": [
       "<Figure size 432x288 with 2 Axes>"
      ]
     },
     "metadata": {
      "needs_background": "light"
     },
     "output_type": "display_data"
    }
   ],
   "source": [
    "def rg_rent_visualization():\n",
    "    # based on the last data\n",
    "    rg_population = 22000\n",
    "    rg = np.array([400, 800, 650, 750, 3800, 4600, 4900, 5200, 5700, 7000, 12400] * int(rg_population / 11))\n",
    "    rg_phi = np.array([2000, 3500, 4600, 7000, 7500, 8000, 9000, 12200, 12500, 12700, 14500] * int(rg_population / 11))\n",
    "\n",
    "    # Construct 2D histogram from data using the 'plasma' colormap\n",
    "    plt.hist2d(rg, rg_phi, bins=5, cmap='plasma')\n",
    "\n",
    "    # Plot a color bar with label.\n",
    "    cb = plt.colorbar()\n",
    "    cb.set_label('Number of entries')\n",
    "\n",
    "    # Add title and labels to plot.\n",
    "    plt.title('RG Heatmap - 2D normally distributed data points')\n",
    "    plt.xlabel('RG')\n",
    "    plt.ylabel('RG PHI')\n",
    "    plt.show()\n",
    "\n",
    "\n",
    "rg_rent_visualization()"
   ]
  },
  {
   "cell_type": "markdown",
   "metadata": {},
   "source": [
    "### Question 3 - Covariance and independence"
   ]
  },
  {
   "cell_type": "markdown",
   "metadata": {},
   "source": [
    "What is the variance of the sum X +Y + Z of three random variables in terms of the variances of X, Y and Z and the covariances between each pair of random variables? What happens if X,Y,Z are pairwise independent? If X,Y,Z are pairwise independent, are they necessarily collectively independent? Prove your answer."
   ]
  },
  {
   "cell_type": "markdown",
   "metadata": {},
   "source": [
    "# Answer \n",
    "\n",
    "$Var(X + Y + Z) = ?$\n",
    "\n",
    "\n",
    "## Definitions:\n",
    "\n",
    "### Variance definition: \n",
    "$Var(X) = E(X^2) - (E(X))^2$\n",
    "\n",
    "### Covariance definition: \n",
    "$Cov(X,Y) = E(XY) - E(X)E(Y)$\n",
    "\n",
    "\n",
    "## Calculation\n",
    "$Var(X + Y + Z) = E((X + Y + Z)^2) - (E(X+ Y + Z))^2$ \n",
    "\n",
    "$(1)\\quad E((X + Y + Z)^2) = E(X^2 + Y^2 + Z^2 + 2XY + 2XZ + 2YZ)$ \\\n",
    "$\\quad\\quad= E(X^2) + E(Y^2) + E(Z^2) + 2E(XY) + 2E(XZ) + 2E(YZ)$ -> Based on linearity of expectations \n",
    "\n",
    "$(2)\\quad (E(X+ Y + Z))^2 = (E(X))^2 + (E(Y))^2 + (E(Z))^2 + 2E(X)E(Y) + 2E(X)E(Z) + 2E(Y)E(Z)$\n",
    "\n",
    "#### Calculation (1) - (2):\n",
    "$= E(X^2) - (E(X))^2 + $ \\\n",
    "$\\quad E(Y^2) - (E(Y))^2 + $ \\\n",
    "$\\quad E(Z^2) - (E(Z))^2 + $ \\\n",
    "$\\quad 2(E(XY) - E(X)E(Y)) + $ \\\n",
    "$\\quad 2(E(XZ) - E(X)E(Z)) + $ \\\n",
    "$\\quad 2(E(YZ) - E(Y)E(Z))$ \n",
    "\n",
    "#### Base on the Variance & Covariance definitions:\n",
    "$E(X^2) - (E(X))^2 = Var(X) $ \\\n",
    "$E(Y^2) - (E(Y))^2 = Var(Y) $ \\\n",
    "$E(Z^2) - (E(Z))^2 = Var(Z) $ \\\n",
    "$2(E(XY) - E(X)E(Y)) = 2Cov(X,Y) $ \\\n",
    "$2(E(XZ) - E(X)E(Z)) = 2Cov(X,Z) $ \\\n",
    "$2(E(YZ) - E(Y)E(Z)) = 2Cov(Y,Z) $ \n",
    "\n",
    "#### Result:\n",
    "$Var(X + Y + Z) = Var(X) + Var(Y) + Var(Z) + 2(Cov(X,Y) + Cov(X,Z) + Cov(Y,Z))$\n",
    "\n",
    "##### Covariance and independence\n",
    "If X,Y,Z are pairwise independent, then their covariance is 0.\n",
    "\n",
    "$Cov(X,Y) = Cov(X,Z) = Cov(Y,Z) = 0$ \n",
    "\n",
    "Therefore, \n",
    "\n",
    "$Var(X + Y + Z) = Var(X) + Var(Y) + Var(Z)$\n",
    "\n",
    "##### Collectively Independent\n",
    "$P(X,Y,Z) = P(X)P(Y)P(Z) ?$\n",
    "\n",
    "By definition, collectively independent events are also pairwise independent. But a set of events that is pairwise independent isn’t automatically collectively independent. They must also meet the condition: $P(X,Y,Z) = P(X)P(Y)P(Z)$\n",
    "\n",
    "A standard example involves two dice: #1 #2\n",
    "\n",
    "X = Event that the sum on #1 and #2 is 7 \\\n",
    "Y = Event that #1 shows 1 \\\n",
    "Z = Event that #2 shows 6\n",
    "\n",
    "$P(X) = P(Y) = P(Z) = \\frac6{36} = \\frac16$ \\\n",
    "$P(X\\cap Y) = P(Y\\cap Z) = P(X\\cap Z) = \\frac1{36} = P(X)P(Y) = P(Y)P(Z) = P(X)P(Z)$ \\\n",
    "But $P(X \\cap Y \\cap Z) = \\frac6{36} \\neq P(X)P(Y)P(Z)$\n",
    "\n",
    "Therefore X, Y, Z are pairwise independent, but not necessarily collectively independent."
   ]
  },
  {
   "cell_type": "markdown",
   "metadata": {},
   "source": [
    "### Question 4 - Convolutions"
   ]
  },
  {
   "cell_type": "markdown",
   "metadata": {},
   "source": [
    "#### 4.A\n",
    "Write a program, `Q = NFoldConv(P , n)`, that takes as input:\n",
    "* A distribution, P, of a random variable that takes finitely many integer values\n",
    "* An integer n\n",
    "\n",
    "and produces the distribution, Q, of the sum of n independent repeats of random variables, each of which has the distribution P."
   ]
  },
  {
   "cell_type": "code",
   "execution_count": 12,
   "metadata": {},
   "outputs": [],
   "source": [
    "def NFoldConv(P, n):\n",
    "    Q = {}\n",
    "    i = 0\n",
    "\n",
    "    # performs n independent repeats\n",
    "    while i < n:\n",
    "        if i == 0:\n",
    "            Q = P.copy()  # for n=1 we return the P distribution\n",
    "        else:\n",
    "            d = {}\n",
    "            for q in Q:\n",
    "                for p in P:\n",
    "                    # check if the sum of the independent random variables exist\n",
    "                    # if not, we would add it to the dictionary with the new probability\n",
    "                    if q + p in d:\n",
    "                        d[q + p] += Q[q] * P[p]   \n",
    "                    else:\n",
    "                        d[q + p] = Q[q] * P[p]\n",
    "            Q = d.copy()\n",
    "        i += 1\n",
    "\n",
    "    return Q"
   ]
  },
  {
   "cell_type": "markdown",
   "metadata": {},
   "source": [
    "#### 4.B\n",
    "Compute the distribution of the sum of the results of rolling a fair octahedron 17 times.\n",
    "\n",
    "<img src=\"https://upload.wikimedia.org/wikipedia/commons/2/27/Octahedron.jpg\" width=\"200\">\n"
   ]
  },
  {
   "cell_type": "code",
   "execution_count": 13,
   "metadata": {},
   "outputs": [
    {
     "data": {
      "text/plain": [
       "{17: 4.440892098500626e-16,\n",
       " 18: 7.549516567451064e-15,\n",
       " 19: 6.794564910705958e-14,\n",
       " 20: 4.303224443447107e-13,\n",
       " 21: 2.1516122217235534e-12,\n",
       " 22: 9.036771331238924e-12,\n",
       " 23: 3.313482821454272e-11,\n",
       " 24: 1.088715784192118e-10,\n",
       " 25: 3.2660718574106795e-10,\n",
       " 26: 9.07134811711785e-10,\n",
       " 27: 2.3577291230481023e-09,\n",
       " 28: 5.782673007104222e-09,\n",
       " 29: 1.3473395732432891e-08,\n",
       " 30: 2.998400727705075e-08,\n",
       " 31: 6.401734875538523e-08,\n",
       " 32: 1.3161584089260714e-07,\n",
       " 33: 2.613809253482202e-07,\n",
       " 34: 5.027422242953605e-07,\n",
       " 35: 9.38663699212583e-07,\n",
       " 36: 1.7045993589981379e-06,\n",
       " 37: 3.015970226893927e-06,\n",
       " 38: 5.206881849684208e-06,\n",
       " 39: 8.783168114145923e-06,\n",
       " 40: 1.449303744882613e-05,\n",
       " 41: 2.3418493098503745e-05,\n",
       " 42: 3.7090165106334894e-05,\n",
       " 43: 5.762708941681183e-05,\n",
       " 44: 8.790117605705916e-05,\n",
       " 45: 0.00013172354057466862,\n",
       " 46: 0.0001940465160554794,\n",
       " 47: 0.000281171099826949,\n",
       " 48: 0.00040094502474907756,\n",
       " 49: 0.0005629319236253316,\n",
       " 50: 0.0007785276598544222,\n",
       " 51: 0.0010609964316725673,\n",
       " 52: 0.0014253974040241424,\n",
       " 53: 0.0018883730784566843,\n",
       " 54: 0.002467774003582779,\n",
       " 55: 0.0031821012120212266,\n",
       " 56: 0.004049758126849046,\n",
       " 57: 0.005088117430610772,\n",
       " 58: 0.006312424925249083,\n",
       " 59: 0.007734580675745839,\n",
       " 60: 0.009361856250110101,\n",
       " 61: 0.011195623843158309,\n",
       " 62: 0.013230186524219256,\n",
       " 63: 0.015451806826463077,\n",
       " 64: 0.017838031700777357,\n",
       " 65: 0.02035740428456334,\n",
       " 66: 0.022969636481963374,\n",
       " 67: 0.025626291369178045,\n",
       " 68: 0.028271992206021945,\n",
       " 69: 0.030846137527832607,\n",
       " 70: 0.033285062338742843,\n",
       " 71: 0.03552454726152865,\n",
       " 72: 0.03750254422783916,\n",
       " 73: 0.03916196231819313,\n",
       " 74: 0.0404533435000225,\n",
       " 75: 0.041337257154996365,\n",
       " 76: 0.04178625514552792,\n",
       " 77: 0.04178625514552792,\n",
       " 78: 0.041337257154996365,\n",
       " 79: 0.0404533435000225,\n",
       " 80: 0.03916196231819313,\n",
       " 81: 0.03750254422783916,\n",
       " 82: 0.03552454726152865,\n",
       " 83: 0.033285062338742843,\n",
       " 84: 0.030846137527832607,\n",
       " 85: 0.028271992206021945,\n",
       " 86: 0.025626291369178045,\n",
       " 87: 0.022969636481963374,\n",
       " 88: 0.02035740428456334,\n",
       " 89: 0.017838031700777357,\n",
       " 90: 0.015451806826463077,\n",
       " 91: 0.013230186524219256,\n",
       " 92: 0.011195623843158309,\n",
       " 93: 0.009361856250110101,\n",
       " 94: 0.007734580675745839,\n",
       " 95: 0.006312424925249083,\n",
       " 96: 0.005088117430610772,\n",
       " 97: 0.004049758126849046,\n",
       " 98: 0.0031821012120212266,\n",
       " 99: 0.002467774003582779,\n",
       " 100: 0.0018883730784566843,\n",
       " 101: 0.0014253974040241424,\n",
       " 102: 0.0010609964316725673,\n",
       " 103: 0.0007785276598544222,\n",
       " 104: 0.0005629319236253316,\n",
       " 105: 0.00040094502474907756,\n",
       " 106: 0.000281171099826949,\n",
       " 107: 0.0001940465160554794,\n",
       " 108: 0.00013172354057466862,\n",
       " 109: 8.790117605705916e-05,\n",
       " 110: 5.762708941681183e-05,\n",
       " 111: 3.7090165106334894e-05,\n",
       " 112: 2.3418493098503745e-05,\n",
       " 113: 1.449303744882613e-05,\n",
       " 114: 8.783168114145923e-06,\n",
       " 115: 5.206881849684208e-06,\n",
       " 116: 3.015970226893927e-06,\n",
       " 117: 1.7045993589981379e-06,\n",
       " 118: 9.38663699212583e-07,\n",
       " 119: 5.027422242953605e-07,\n",
       " 120: 2.613809253482202e-07,\n",
       " 121: 1.3161584089260714e-07,\n",
       " 122: 6.401734875538523e-08,\n",
       " 123: 2.998400727705075e-08,\n",
       " 124: 1.3473395732432891e-08,\n",
       " 125: 5.782673007104222e-09,\n",
       " 126: 2.3577291230481023e-09,\n",
       " 127: 9.07134811711785e-10,\n",
       " 128: 3.2660718574106795e-10,\n",
       " 129: 1.088715784192118e-10,\n",
       " 130: 3.313482821454272e-11,\n",
       " 131: 9.036771331238924e-12,\n",
       " 132: 2.1516122217235534e-12,\n",
       " 133: 4.303224443447107e-13,\n",
       " 134: 6.794564910705958e-14,\n",
       " 135: 7.549516567451064e-15,\n",
       " 136: 4.440892098500626e-16}"
      ]
     },
     "execution_count": 13,
     "metadata": {},
     "output_type": "execute_result"
    }
   ],
   "source": [
    "P = {\n",
    "        1: 1.0/8,\n",
    "        2: 1.0/8,\n",
    "        3: 1.0/8,\n",
    "        4: 1.0/8,\n",
    "        5: 1.0/8,\n",
    "        6: 1.0/8,\n",
    "        7: 1.0/8,\n",
    "        8: 1.0/8\n",
    "}\n",
    "n = 17\n",
    "\n",
    "NFoldConv(P, n)"
   ]
  },
  {
   "cell_type": "markdown",
   "metadata": {},
   "source": [
    "#### 4.C\n",
    "Assume that the price of a stock changes in any given day according to (in NIS):\n",
    "\n",
    "$$P=\\begin{pmatrix}\n",
    "-1 & 0 & 1 & 2 & 3 \\\\\n",
    "0.3 & 0.15 & 0.15 & 0.15 & 0.25\n",
    "\\end{pmatrix}$$\n",
    "\n",
    "1. What is the distribution of the change in stock after 2 consecutive days of (independent) changes? After 5 consecutive days? "
   ]
  },
  {
   "cell_type": "code",
   "execution_count": 14,
   "metadata": {},
   "outputs": [
    {
     "data": {
      "text/plain": [
       "{-2: 0.09,\n",
       " -1: 0.09,\n",
       " 0: 0.1125,\n",
       " 1: 0.135,\n",
       " 2: 0.21749999999999997,\n",
       " 3: 0.12,\n",
       " 4: 0.0975,\n",
       " 5: 0.075,\n",
       " 6: 0.0625}"
      ]
     },
     "execution_count": 14,
     "metadata": {},
     "output_type": "execute_result"
    }
   ],
   "source": [
    "P = {-1: 0.3, 0: 0.15, 1: 0.15, 2: 0.15, 3: 0.25}\n",
    "n = 2\n",
    "NFoldConv(P, n)"
   ]
  },
  {
   "cell_type": "code",
   "execution_count": 15,
   "metadata": {},
   "outputs": [
    {
     "data": {
      "text/plain": [
       "{-5: 0.00243,\n",
       " -4: 0.006075,\n",
       " -3: 0.012149999999999998,\n",
       " -2: 0.021262499999999997,\n",
       " -1: 0.038221874999999995,\n",
       " 0: 0.053738437499999986,\n",
       " 1: 0.07074843749999998,\n",
       " 2: 0.08720156249999998,\n",
       " 3: 0.10407656249999997,\n",
       " 4: 0.10719843749999998,\n",
       " 5: 0.10638843749999999,\n",
       " 6: 0.09968906249999998,\n",
       " 7: 0.08860781249999998,\n",
       " 8: 0.0683578125,\n",
       " 9: 0.0517078125,\n",
       " 10: 0.0363571875,\n",
       " 11: 0.0233671875,\n",
       " 12: 0.0120703125,\n",
       " 13: 0.0064453125,\n",
       " 14: 0.0029296875,\n",
       " 15: 0.0009765625}"
      ]
     },
     "execution_count": 15,
     "metadata": {},
     "output_type": "execute_result"
    }
   ],
   "source": [
    "P = {-1: 0.3, 0: 0.15, 1: 0.15, 2: 0.15, 3: 0.25}\n",
    "n = 5\n",
    "NFoldConv(P, n)"
   ]
  },
  {
   "cell_type": "markdown",
   "metadata": {},
   "source": [
    "2. What is the probability that the stock has gained strictly more than 7NIS after 5 days? Has lost strictly more than 4NIS? Explain your answers."
   ]
  },
  {
   "cell_type": "code",
   "execution_count": 16,
   "metadata": {},
   "outputs": [
    {
     "name": "stdout",
     "output_type": "stream",
     "text": [
      "The probability that the stock has gained strictly more than 7NIS after 5 days: 0.202211875\n",
      "The probability that the stock has lost strictly more than 4NIS after 5 days: 0.3959043749999999\n"
     ]
    }
   ],
   "source": [
    "def get_stock_probability():\n",
    "    # first we need to calculate the probabilities of 5 days using the NFoldConv function\n",
    "    P = {-1: 0.3, 0: 0.15, 1: 0.15, 2: 0.15, 3: 0.25}\n",
    "    n = 5\n",
    "    probs_of_5_days = NFoldConv(P, n)\n",
    "\n",
    "    # initial probabilities\n",
    "    greater_than_7_prob = 0\n",
    "    smaller_than_4_prob = 0\n",
    "\n",
    "    for i in probs_of_5_days:\n",
    "        # sum the probabilities of gaining more than 7NIS:\n",
    "        # P(Y>7) = P(8) + P(9) + ...\n",
    "        if i > 7:\n",
    "            greater_than_7_prob += probs_of_5_days[i]\n",
    "\n",
    "        # sum the probabilities of losing more than 4NIS:\n",
    "        # P(Y<4) = P(3) + P(2) + ...\n",
    "        if i < 4:\n",
    "            smaller_than_4_prob += probs_of_5_days[i]\n",
    "\n",
    "    print('The probability that the stock has gained strictly more than 7NIS after 5 days: {0}'.format(greater_than_7_prob))\n",
    "    print('The probability that the stock has lost strictly more than 4NIS after 5 days: {0}'.format(smaller_than_4_prob))\n",
    "\n",
    "\n",
    "get_stock_probability()"
   ]
  }
 ],
 "metadata": {
  "kernelspec": {
   "display_name": "Python 3 (ipykernel)",
   "language": "python",
   "name": "python3"
  },
  "language_info": {
   "codemirror_mode": {
    "name": "ipython",
    "version": 3
   },
   "file_extension": ".py",
   "mimetype": "text/x-python",
   "name": "python",
   "nbconvert_exporter": "python",
   "pygments_lexer": "ipython3",
   "version": "3.8.6"
  }
 },
 "nbformat": 4,
 "nbformat_minor": 2
}
